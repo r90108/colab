{
  "nbformat": 4,
  "nbformat_minor": 0,
  "metadata": {
    "colab": {
      "provenance": [],
      "authorship_tag": "ABX9TyNbhkhJV+C7IeW/XUlqk7S/",
      "include_colab_link": true
    },
    "kernelspec": {
      "name": "python3",
      "display_name": "Python 3"
    },
    "language_info": {
      "name": "python"
    }
  },
  "cells": [
    {
      "cell_type": "markdown",
      "metadata": {
        "id": "view-in-github",
        "colab_type": "text"
      },
      "source": [
        "<a href=\"https://colab.research.google.com/github/r90108/colab/blob/main/%E6%96%87%E9%9D%92%E8%A9%A9%E4%BA%BA.ipynb\" target=\"_parent\"><img src=\"https://colab.research.google.com/assets/colab-badge.svg\" alt=\"Open In Colab\"/></a>"
      ]
    },
    {
      "cell_type": "code",
      "source": [
        "%matplotlib inline\n",
        "import numpy as np\n",
        "import matplotlib.pyplot as plt"
      ],
      "metadata": {
        "id": "PoSC7cbxHgn6"
      },
      "execution_count": 1,
      "outputs": []
    },
    {
      "cell_type": "code",
      "source": [
        "from random import randint, choice, sample"
      ],
      "metadata": {
        "id": "xU0ditD3OASH"
      },
      "execution_count": 2,
      "outputs": []
    },
    {
      "cell_type": "code",
      "execution_count": 3,
      "metadata": {
        "id": "m5uFiChJGNqE"
      },
      "outputs": [],
      "source": [
        "st = '''\n",
        "我\n",
        "我的\n",
        "眼睛\n",
        "妳\n",
        "妳的\n",
        "心\n",
        "溫柔\n",
        "日子\n",
        "雨\n",
        "風\n",
        "天空\n",
        "雲\n",
        "等待\n",
        "哭泣\n",
        "戀愛\n",
        "相遇\n",
        "分離\n",
        "忘記\n",
        "心醉\n",
        "驀然\n",
        "吹過\n",
        "思念\n",
        "靈魂\n",
        "停止\n",
        "'''\n",
        "words = st.split('\\n')"
      ]
    },
    {
      "cell_type": "code",
      "source": [
        "words"
      ],
      "metadata": {
        "colab": {
          "base_uri": "https://localhost:8080/"
        },
        "id": "-OdRg5SSHd1l",
        "outputId": "388aa903-3fa5-4ef3-d76b-fd55907f9f5e"
      },
      "execution_count": 4,
      "outputs": [
        {
          "output_type": "execute_result",
          "data": {
            "text/plain": [
              "['',\n",
              " '我',\n",
              " '我的',\n",
              " '眼睛',\n",
              " '妳',\n",
              " '妳的',\n",
              " '心',\n",
              " '溫柔',\n",
              " '日子',\n",
              " '雨',\n",
              " '風',\n",
              " '天空',\n",
              " '雲',\n",
              " '等待',\n",
              " '哭泣',\n",
              " '戀愛',\n",
              " '相遇',\n",
              " '分離',\n",
              " '忘記',\n",
              " '心醉',\n",
              " '驀然',\n",
              " '吹過',\n",
              " '思念',\n",
              " '靈魂',\n",
              " '停止',\n",
              " '']"
            ]
          },
          "metadata": {},
          "execution_count": 4
        }
      ]
    },
    {
      "cell_type": "code",
      "source": [
        "sample(words, 5)"
      ],
      "metadata": {
        "colab": {
          "base_uri": "https://localhost:8080/"
        },
        "id": "ZQLIZGVeOB48",
        "outputId": "935e7101-c849-4594-a111-e031071de529"
      },
      "execution_count": 5,
      "outputs": [
        {
          "output_type": "execute_result",
          "data": {
            "text/plain": [
              "['忘記', '我', '眼睛', '', '靈魂']"
            ]
          },
          "metadata": {},
          "execution_count": 5
        }
      ]
    },
    {
      "cell_type": "code",
      "source": [
        "def pome():\n",
        "  n = randint(2, 7) # 決定有幾句\n",
        "  for i in range(n):\n",
        "    m = randint(2, 5) # 決定每句的長度\n",
        "    sentence = sample(words, m)\n",
        "    print(\" \".join(sentence))"
      ],
      "metadata": {
        "id": "djGmc227He5J"
      },
      "execution_count": 6,
      "outputs": []
    },
    {
      "cell_type": "code",
      "source": [
        "pome()"
      ],
      "metadata": {
        "colab": {
          "base_uri": "https://localhost:8080/"
        },
        "id": "fyYLqA3_ID8h",
        "outputId": "019222af-eb91-4080-8ddf-17e7ce494b92"
      },
      "execution_count": 7,
      "outputs": [
        {
          "output_type": "stream",
          "name": "stdout",
          "text": [
            "思念 日子 風 我的\n",
            "風 心   日子\n",
            "天空 相遇 戀愛 妳\n",
            "日子 溫柔 等待 雲 心\n",
            "等待 忘記 心 妳\n",
            " 分離 戀愛 日子 哭泣\n"
          ]
        }
      ]
    },
    {
      "cell_type": "code",
      "source": [
        "n = randint(2, 7)\n",
        "for i in range(n):\n",
        "  print('*')"
      ],
      "metadata": {
        "colab": {
          "base_uri": "https://localhost:8080/"
        },
        "id": "Tt-vPlaJK4rj",
        "outputId": "28134731-4dc2-46cb-8289-8b2c48fb574b"
      },
      "execution_count": 8,
      "outputs": [
        {
          "output_type": "stream",
          "name": "stdout",
          "text": [
            "*\n",
            "*\n",
            "*\n"
          ]
        }
      ]
    },
    {
      "cell_type": "code",
      "source": [
        "%save 'pome.py' 2 3 4 6"
      ],
      "metadata": {
        "colab": {
          "base_uri": "https://localhost:8080/"
        },
        "id": "AmcdYX6JSVJi",
        "outputId": "f9259ab9-cc04-4bbf-c334-d3e12df5a2d6"
      },
      "execution_count": 11,
      "outputs": [
        {
          "output_type": "stream",
          "name": "stdout",
          "text": [
            "File `pome.py` exists. Overwrite (y/[N])?  y\n",
            "The following commands were written to file `pome.py`:\n",
            "from random import randint, choice, sample\n",
            "st = '''\n",
            "我\n",
            "我的\n",
            "眼睛\n",
            "妳\n",
            "妳的\n",
            "心\n",
            "溫柔\n",
            "日子\n",
            "雨\n",
            "風\n",
            "天空\n",
            "雲\n",
            "等待\n",
            "哭泣\n",
            "戀愛\n",
            "相遇\n",
            "分離\n",
            "忘記\n",
            "心醉\n",
            "驀然\n",
            "吹過\n",
            "思念\n",
            "靈魂\n",
            "停止\n",
            "'''\n",
            "words = st.split('\\n')\n",
            "words\n",
            "def pome():\n",
            "  n = randint(2, 7) # 決定有幾句\n",
            "  for i in range(n):\n",
            "    m = randint(2, 5) # 決定每句的長度\n",
            "    sentence = sample(words, m)\n",
            "    print(\" \".join(sentence))\n"
          ]
        }
      ]
    },
    {
      "cell_type": "code",
      "source": [],
      "metadata": {
        "id": "_8hqipTBSkg3"
      },
      "execution_count": null,
      "outputs": []
    }
  ]
}