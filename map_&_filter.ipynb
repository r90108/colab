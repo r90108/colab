{
  "nbformat": 4,
  "nbformat_minor": 0,
  "metadata": {
    "colab": {
      "provenance": [],
      "authorship_tag": "ABX9TyPfKAVeXroeyxFkjM2LdswZ",
      "include_colab_link": true
    },
    "kernelspec": {
      "name": "python3",
      "display_name": "Python 3"
    },
    "language_info": {
      "name": "python"
    }
  },
  "cells": [
    {
      "cell_type": "markdown",
      "metadata": {
        "id": "view-in-github",
        "colab_type": "text"
      },
      "source": [
        "<a href=\"https://colab.research.google.com/github/r90108/colab/blob/main/map_%26_filter.ipynb\" target=\"_parent\"><img src=\"https://colab.research.google.com/assets/colab-badge.svg\" alt=\"Open In Colab\"/></a>"
      ]
    },
    {
      "cell_type": "code",
      "execution_count": null,
      "metadata": {
        "id": "1UTqcq-TFbYJ"
      },
      "outputs": [],
      "source": [
        "%matplotlib inline\n",
        "import numpy as np\n",
        "import matplotlib.pyplot as plt\n",
        "import pandas as pd"
      ]
    },
    {
      "cell_type": "markdown",
      "source": [
        "#匯率換算(map範例)"
      ],
      "metadata": {
        "id": "Xc5h_OKIN3al"
      }
    },
    {
      "cell_type": "markdown",
      "source": [
        "*   用 for迴圈\n",
        "\n",
        "\n"
      ],
      "metadata": {
        "id": "y-JYjreAJllD"
      }
    },
    {
      "cell_type": "code",
      "source": [
        "items = [500,30,2000]\n",
        "c = 30.8594\n",
        "ex = []\n",
        "for i in items:\n",
        "  ex.append(i*c)\n",
        "print(ex) "
      ],
      "metadata": {
        "colab": {
          "base_uri": "https://localhost:8080/"
        },
        "id": "1nNae0urFqxH",
        "outputId": "8d1e767a-f61d-49de-be4e-7c86b5f98adc"
      },
      "execution_count": null,
      "outputs": [
        {
          "output_type": "stream",
          "name": "stdout",
          "text": [
            "[15429.7, 925.782, 61718.8]\n"
          ]
        }
      ]
    },
    {
      "cell_type": "markdown",
      "source": [
        "* 用def函數"
      ],
      "metadata": {
        "id": "iExIo31qJqt7"
      }
    },
    {
      "cell_type": "code",
      "source": [
        "def exchange(p):\n",
        "  p = float(p)\n",
        "  return p*c"
      ],
      "metadata": {
        "id": "D5peD4m8GJFR"
      },
      "execution_count": null,
      "outputs": []
    },
    {
      "cell_type": "markdown",
      "source": [
        "###map(f,L)把f這個函數用到L list中的每一個元素"
      ],
      "metadata": {
        "id": "mjQfWvxGLRl7"
      }
    },
    {
      "cell_type": "code",
      "source": [
        "list(map(exchange,items))"
      ],
      "metadata": {
        "colab": {
          "base_uri": "https://localhost:8080/"
        },
        "id": "eahUOBxaHceH",
        "outputId": "243ae80b-9488-4e0c-d15d-e74872e0451b"
      },
      "execution_count": null,
      "outputs": [
        {
          "output_type": "execute_result",
          "data": {
            "text/plain": [
              "[15429.7, 925.782, 61718.8]"
            ]
          },
          "metadata": {},
          "execution_count": 9
        }
      ]
    },
    {
      "cell_type": "code",
      "source": [
        "ex = list(map(exchange,items))"
      ],
      "metadata": {
        "id": "Xheo_p1SHslJ"
      },
      "execution_count": null,
      "outputs": []
    },
    {
      "cell_type": "markdown",
      "source": [
        "###lambda"
      ],
      "metadata": {
        "id": "oVbz5L_5JzhD"
      }
    },
    {
      "cell_type": "code",
      "source": [
        "list(map(lambda p:p*c,items))"
      ],
      "metadata": {
        "colab": {
          "base_uri": "https://localhost:8080/"
        },
        "id": "d70VLdDpIt2Z",
        "outputId": "f7a362f8-d8be-446c-f033-82c797128541"
      },
      "execution_count": null,
      "outputs": [
        {
          "output_type": "execute_result",
          "data": {
            "text/plain": [
              "[15429.7, 925.782, 61718.8]"
            ]
          },
          "metadata": {},
          "execution_count": 13
        }
      ]
    },
    {
      "cell_type": "markdown",
      "source": [
        "###list comprehesion"
      ],
      "metadata": {
        "id": "asnj0OcuLmXF"
      }
    },
    {
      "cell_type": "code",
      "source": [
        "[float(p)*c for p in items]"
      ],
      "metadata": {
        "colab": {
          "base_uri": "https://localhost:8080/"
        },
        "id": "PWG8bjLOJNki",
        "outputId": "f4ff0cec-eedd-4f95-ff89-fc808248f4bc"
      },
      "execution_count": null,
      "outputs": [
        {
          "output_type": "execute_result",
          "data": {
            "text/plain": [
              "[15429.7, 925.782, 61718.8]"
            ]
          },
          "metadata": {},
          "execution_count": 15
        }
      ]
    },
    {
      "cell_type": "markdown",
      "source": [
        "#成績過濾(filter範例)"
      ],
      "metadata": {
        "id": "2EnvRY80OS9g"
      }
    },
    {
      "cell_type": "code",
      "source": [
        "grades = [87,56,63,98,32,15]"
      ],
      "metadata": {
        "id": "4cN6DXCgORf0"
      },
      "execution_count": 16,
      "outputs": []
    },
    {
      "cell_type": "code",
      "source": [
        "def spam(g):\n",
        "  return g>=60"
      ],
      "metadata": {
        "id": "5H9vMLqPOl8O"
      },
      "execution_count": 17,
      "outputs": []
    },
    {
      "cell_type": "code",
      "source": [
        "spam(60)"
      ],
      "metadata": {
        "colab": {
          "base_uri": "https://localhost:8080/"
        },
        "id": "vJvoKv2dOnC1",
        "outputId": "46388f03-4f92-4581-f42f-497e7668e42b"
      },
      "execution_count": 18,
      "outputs": [
        {
          "output_type": "execute_result",
          "data": {
            "text/plain": [
              "True"
            ]
          },
          "metadata": {},
          "execution_count": 18
        }
      ]
    },
    {
      "cell_type": "code",
      "source": [
        "spam(30)"
      ],
      "metadata": {
        "colab": {
          "base_uri": "https://localhost:8080/"
        },
        "id": "TPNOqJaUOoGb",
        "outputId": "5c14c5eb-6591-4b9b-efef-d53ce5443ff1"
      },
      "execution_count": 19,
      "outputs": [
        {
          "output_type": "execute_result",
          "data": {
            "text/plain": [
              "False"
            ]
          },
          "metadata": {},
          "execution_count": 19
        }
      ]
    },
    {
      "cell_type": "markdown",
      "source": [
        "###filter"
      ],
      "metadata": {
        "id": "82IQNuWXOxqH"
      }
    },
    {
      "cell_type": "code",
      "source": [
        "list(filter(spam,grades))"
      ],
      "metadata": {
        "colab": {
          "base_uri": "https://localhost:8080/"
        },
        "id": "SYKw-xIqOp4l",
        "outputId": "c9ca8581-d4b2-46a7-bf7c-b2692c68c05e"
      },
      "execution_count": 20,
      "outputs": [
        {
          "output_type": "execute_result",
          "data": {
            "text/plain": [
              "[87, 63, 98]"
            ]
          },
          "metadata": {},
          "execution_count": 20
        }
      ]
    },
    {
      "cell_type": "markdown",
      "source": [
        "###lambda"
      ],
      "metadata": {
        "id": "85wZo0ClOurz"
      }
    },
    {
      "cell_type": "code",
      "source": [
        "list(filter(lambda g:g>=60, grades))"
      ],
      "metadata": {
        "colab": {
          "base_uri": "https://localhost:8080/"
        },
        "id": "qq_CH1lAOrRn",
        "outputId": "021ab94e-1484-4ffb-d70c-0447bdff1d57"
      },
      "execution_count": 21,
      "outputs": [
        {
          "output_type": "execute_result",
          "data": {
            "text/plain": [
              "[87, 63, 98]"
            ]
          },
          "metadata": {},
          "execution_count": 21
        }
      ]
    }
  ]
}