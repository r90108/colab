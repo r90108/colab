{
  "nbformat": 4,
  "nbformat_minor": 0,
  "metadata": {
    "colab": {
      "provenance": [],
      "authorship_tag": "ABX9TyMXW+4c4luxj1mO/6x1Gi2g",
      "include_colab_link": true
    },
    "kernelspec": {
      "name": "python3",
      "display_name": "Python 3"
    },
    "language_info": {
      "name": "python"
    }
  },
  "cells": [
    {
      "cell_type": "markdown",
      "metadata": {
        "id": "view-in-github",
        "colab_type": "text"
      },
      "source": [
        "<a href=\"https://colab.research.google.com/github/r90108/colab/blob/main/print%E4%BD%BF%E7%94%A8.ipynb\" target=\"_parent\"><img src=\"https://colab.research.google.com/assets/colab-badge.svg\" alt=\"Open In Colab\"/></a>"
      ]
    },
    {
      "cell_type": "code",
      "source": [
        "%matplotlib inline\n",
        "import numpy as np\n",
        "import matplotlib.pyplot as plt\n",
        "import pandas as pd"
      ],
      "metadata": {
        "id": "JIgMQLR2M3rl"
      },
      "execution_count": 2,
      "outputs": []
    },
    {
      "cell_type": "code",
      "source": [
        "for i in range(10):\n",
        "  print(i)"
      ],
      "metadata": {
        "colab": {
          "base_uri": "https://localhost:8080/"
        },
        "id": "ewDjfYQWQJB6",
        "outputId": "75bee111-d709-44de-f7c4-4ce744bbdb3a"
      },
      "execution_count": 9,
      "outputs": [
        {
          "output_type": "stream",
          "name": "stdout",
          "text": [
            "0\n",
            "1\n",
            "2\n",
            "3\n",
            "4\n",
            "5\n",
            "6\n",
            "7\n",
            "8\n",
            "9\n"
          ]
        }
      ]
    },
    {
      "cell_type": "markdown",
      "source": [
        "* 空格格開"
      ],
      "metadata": {
        "id": "N_AqHceBQVOu"
      }
    },
    {
      "cell_type": "code",
      "source": [
        "for i in range(10):\n",
        "  print(i,end=' ')"
      ],
      "metadata": {
        "colab": {
          "base_uri": "https://localhost:8080/"
        },
        "id": "8GbcvOTOQNdT",
        "outputId": "4bb66e9d-da07-410d-e4a8-739147b363b0"
      },
      "execution_count": 10,
      "outputs": [
        {
          "output_type": "stream",
          "name": "stdout",
          "text": [
            "0 1 2 3 4 5 6 7 8 9 "
          ]
        }
      ]
    },
    {
      "cell_type": "markdown",
      "source": [
        "* 逗點隔開"
      ],
      "metadata": {
        "id": "RdQyj36TQcDc"
      }
    },
    {
      "cell_type": "code",
      "source": [
        "for i in range(10):\n",
        "  print(i,end=',')"
      ],
      "metadata": {
        "colab": {
          "base_uri": "https://localhost:8080/"
        },
        "id": "bwetcFqLQT71",
        "outputId": "3c81acd8-2256-4ae1-d330-640027f50e25"
      },
      "execution_count": 11,
      "outputs": [
        {
          "output_type": "stream",
          "name": "stdout",
          "text": [
            "0,1,2,3,4,5,6,7,8,9,"
          ]
        }
      ]
    },
    {
      "cell_type": "code",
      "source": [
        "print('price:',400)"
      ],
      "metadata": {
        "colab": {
          "base_uri": "https://localhost:8080/"
        },
        "id": "4oYVE14sQbZ2",
        "outputId": "c4fb90a3-6268-407b-c8a0-44a6252d8862"
      },
      "execution_count": 12,
      "outputs": [
        {
          "output_type": "stream",
          "name": "stdout",
          "text": [
            "price: 400\n"
          ]
        }
      ]
    },
    {
      "cell_type": "markdown",
      "source": [
        "##資料型態一樣才能相加"
      ],
      "metadata": {
        "id": "M8BimG4NROIR"
      }
    },
    {
      "cell_type": "code",
      "source": [
        "print('price:' + '400')"
      ],
      "metadata": {
        "colab": {
          "base_uri": "https://localhost:8080/"
        },
        "id": "ssEvzmWQQ8-c",
        "outputId": "0c1098a6-30fa-4772-b203-bf4479c51bb4"
      },
      "execution_count": 18,
      "outputs": [
        {
          "output_type": "stream",
          "name": "stdout",
          "text": [
            "price:400\n"
          ]
        }
      ]
    },
    {
      "cell_type": "code",
      "source": [
        "p = 400"
      ],
      "metadata": {
        "id": "zbwRYrjiRB_s"
      },
      "execution_count": 14,
      "outputs": []
    },
    {
      "cell_type": "code",
      "source": [
        "print('price:' + str(p))"
      ],
      "metadata": {
        "colab": {
          "base_uri": "https://localhost:8080/"
        },
        "id": "Vss9y3zdREgG",
        "outputId": "030cb27d-441c-447b-f8f9-5d7d63186ed7"
      },
      "execution_count": 17,
      "outputs": [
        {
          "output_type": "stream",
          "name": "stdout",
          "text": [
            "price:400\n"
          ]
        }
      ]
    },
    {
      "cell_type": "code",
      "source": [
        "list('ABCD')"
      ],
      "metadata": {
        "colab": {
          "base_uri": "https://localhost:8080/"
        },
        "id": "mVvXfNQXR2ZO",
        "outputId": "7dd5838d-9781-40c5-f117-4569c94b0f08"
      },
      "execution_count": 27,
      "outputs": [
        {
          "output_type": "execute_result",
          "data": {
            "text/plain": [
              "['A', 'B', 'C', 'D']"
            ]
          },
          "metadata": {},
          "execution_count": 27
        }
      ]
    },
    {
      "cell_type": "code",
      "source": [
        "L = 'A B C D'.split()\n",
        "print(L)"
      ],
      "metadata": {
        "colab": {
          "base_uri": "https://localhost:8080/"
        },
        "id": "87oXjUFxSpYA",
        "outputId": "76953652-c3d1-4e1f-a3af-d6d8d73617d5"
      },
      "execution_count": 45,
      "outputs": [
        {
          "output_type": "stream",
          "name": "stdout",
          "text": [
            "['A', 'B', 'C', 'D']\n"
          ]
        }
      ]
    },
    {
      "cell_type": "code",
      "source": [
        "type(L)"
      ],
      "metadata": {
        "colab": {
          "base_uri": "https://localhost:8080/"
        },
        "id": "PsATleHQTiV_",
        "outputId": "9b7e234a-4779-445d-cd4d-7b859fe46aeb"
      },
      "execution_count": 43,
      "outputs": [
        {
          "output_type": "execute_result",
          "data": {
            "text/plain": [
              "list"
            ]
          },
          "metadata": {},
          "execution_count": 43
        }
      ]
    },
    {
      "cell_type": "code",
      "source": [
        "mylist = ['A','B','C','D']"
      ],
      "metadata": {
        "id": "iPM8SN-7RH-P"
      },
      "execution_count": 23,
      "outputs": []
    },
    {
      "cell_type": "code",
      "source": [
        "','.join(mylist)\n"
      ],
      "metadata": {
        "colab": {
          "base_uri": "https://localhost:8080/",
          "height": 36
        },
        "id": "OnvuFCDMRm6d",
        "outputId": "d5e59108-6ca4-44bf-844f-f7a2277c9b5d"
      },
      "execution_count": 39,
      "outputs": [
        {
          "output_type": "execute_result",
          "data": {
            "text/plain": [
              "'A,B,C,D'"
            ],
            "application/vnd.google.colaboratory.intrinsic+json": {
              "type": "string"
            }
          },
          "metadata": {},
          "execution_count": 39
        }
      ]
    },
    {
      "cell_type": "code",
      "source": [
        "s = ','.join(mylist)\n",
        "print(s)"
      ],
      "metadata": {
        "colab": {
          "base_uri": "https://localhost:8080/"
        },
        "id": "rz_eDbqKTaZ6",
        "outputId": "98aba511-5293-4722-896b-7d565bf9fa0c"
      },
      "execution_count": 46,
      "outputs": [
        {
          "output_type": "stream",
          "name": "stdout",
          "text": [
            "A,B,C,D\n"
          ]
        }
      ]
    },
    {
      "cell_type": "code",
      "source": [
        "type(s)"
      ],
      "metadata": {
        "colab": {
          "base_uri": "https://localhost:8080/"
        },
        "id": "hDSYYxcCRsHV",
        "outputId": "7b866500-c832-428a-c7b0-91b051ac04a8"
      },
      "execution_count": 47,
      "outputs": [
        {
          "output_type": "execute_result",
          "data": {
            "text/plain": [
              "str"
            ]
          },
          "metadata": {},
          "execution_count": 47
        }
      ]
    },
    {
      "cell_type": "markdown",
      "source": [
        "##range(10)會生成從0到9的整數，然後str()函式將每個數字轉換為字串。"
      ],
      "metadata": {
        "id": "_DJueFfgVjfi"
      }
    },
    {
      "cell_type": "code",
      "source": [
        "\n",
        "l = list(map(str,range(10)))"
      ],
      "metadata": {
        "id": "X5ELoZn-U2Pf"
      },
      "execution_count": 49,
      "outputs": []
    },
    {
      "cell_type": "code",
      "source": [
        "print(','.join(l))"
      ],
      "metadata": {
        "colab": {
          "base_uri": "https://localhost:8080/"
        },
        "id": "n7ZEbetPU695",
        "outputId": "a649a3df-1a3a-43cc-9844-60f47be6df28"
      },
      "execution_count": 51,
      "outputs": [
        {
          "output_type": "stream",
          "name": "stdout",
          "text": [
            "0,1,2,3,4,5,6,7,8,9\n"
          ]
        }
      ]
    },
    {
      "cell_type": "markdown",
      "source": [
        "##method 01"
      ],
      "metadata": {
        "id": "be17KzLrh-Gb"
      }
    },
    {
      "cell_type": "code",
      "source": [
        "name = '育慈'\n",
        "age = 18"
      ],
      "metadata": {
        "id": "352uV-_1VD8q"
      },
      "execution_count": 53,
      "outputs": []
    },
    {
      "cell_type": "code",
      "source": [
        "print('你好我是%s，今年%d歲。' %(name,age))"
      ],
      "metadata": {
        "colab": {
          "base_uri": "https://localhost:8080/"
        },
        "id": "94TvyS8MiGdn",
        "outputId": "9cd14b0b-583d-4534-b73e-61359ebcc7bc"
      },
      "execution_count": 58,
      "outputs": [
        {
          "output_type": "stream",
          "name": "stdout",
          "text": [
            "你好我是育慈，今年18歲。\n"
          ]
        }
      ]
    },
    {
      "cell_type": "markdown",
      "source": [
        "##method 02:format"
      ],
      "metadata": {
        "id": "WCxwtsiRigyb"
      }
    },
    {
      "cell_type": "code",
      "source": [
        "print('你好我是{}，今年{}歲。'.format(name,age))"
      ],
      "metadata": {
        "colab": {
          "base_uri": "https://localhost:8080/"
        },
        "id": "9p_j6ah4ibFW",
        "outputId": "8b27cb2f-0bbf-4be3-ad22-e03ca075e266"
      },
      "execution_count": 59,
      "outputs": [
        {
          "output_type": "stream",
          "name": "stdout",
          "text": [
            "你好我是育慈，今年18歲。\n"
          ]
        }
      ]
    },
    {
      "cell_type": "markdown",
      "source": [
        "##method 03:f-string"
      ],
      "metadata": {
        "id": "tVz-NFDmi8Rp"
      }
    },
    {
      "cell_type": "code",
      "source": [
        "print(f'你好我是{name}，今年{age}歲。')"
      ],
      "metadata": {
        "colab": {
          "base_uri": "https://localhost:8080/"
        },
        "id": "-Vxyzgsmiwwx",
        "outputId": "23459768-4672-4cb1-d97f-c01c79964da0"
      },
      "execution_count": 60,
      "outputs": [
        {
          "output_type": "stream",
          "name": "stdout",
          "text": [
            "你好我是育慈，今年18歲。\n"
          ]
        }
      ]
    },
    {
      "cell_type": "markdown",
      "source": [
        "##數字照我們的方式顯示"
      ],
      "metadata": {
        "id": "Ca-Y6rIrjsJq"
      }
    },
    {
      "cell_type": "code",
      "source": [
        "c = 32.8135275"
      ],
      "metadata": {
        "id": "hcJ_H_OIjG8Z"
      },
      "execution_count": 61,
      "outputs": []
    },
    {
      "cell_type": "code",
      "source": [
        "print(f'1歐元合台幣{c}元。')"
      ],
      "metadata": {
        "colab": {
          "base_uri": "https://localhost:8080/"
        },
        "id": "2cMllrv2jwBZ",
        "outputId": "17f9ae06-f187-4b29-bc5f-1f69580dfb52"
      },
      "execution_count": 62,
      "outputs": [
        {
          "output_type": "stream",
          "name": "stdout",
          "text": [
            "1歐元合台幣32.8135275元。\n"
          ]
        }
      ]
    },
    {
      "cell_type": "code",
      "source": [
        "print(f'1歐元合台幣{c:.2f}元。')"
      ],
      "metadata": {
        "colab": {
          "base_uri": "https://localhost:8080/"
        },
        "id": "N2e4e9kEj5z2",
        "outputId": "cd80ffa3-7b36-49ce-d680-724621461d6d"
      },
      "execution_count": 63,
      "outputs": [
        {
          "output_type": "stream",
          "name": "stdout",
          "text": [
            "1歐元合台幣32.81元。\n"
          ]
        }
      ]
    },
    {
      "cell_type": "code",
      "source": [
        " print(f'1歐元合台幣{c:10.2f}元。')#10個空格"
      ],
      "metadata": {
        "colab": {
          "base_uri": "https://localhost:8080/"
        },
        "id": "pNlTCCN4j-9h",
        "outputId": "d947749f-9241-40f2-c694-6276f1b40cee"
      },
      "execution_count": 65,
      "outputs": [
        {
          "output_type": "stream",
          "name": "stdout",
          "text": [
            "1歐元合台幣     32.81元。\n"
          ]
        }
      ]
    },
    {
      "cell_type": "code",
      "source": [
        "face = 'ʕ•͡ᴥ•ʔ'\n",
        "print(f'\\{face}/')"
      ],
      "metadata": {
        "colab": {
          "base_uri": "https://localhost:8080/"
        },
        "id": "dVQOIFurkzZ9",
        "outputId": "2b5cdb4e-b9f0-41ad-a549-840a3f90155f"
      },
      "execution_count": 6,
      "outputs": [
        {
          "output_type": "stream",
          "name": "stdout",
          "text": [
            "\\ʕ•͡ᴥ•ʔ/\n"
          ]
        }
      ]
    },
    {
      "cell_type": "code",
      "source": [
        "print(f'\\{face:20s}/')"
      ],
      "metadata": {
        "colab": {
          "base_uri": "https://localhost:8080/"
        },
        "id": "2yEviyc79MqL",
        "outputId": "283b9171-4fea-4dc1-d1bf-cfe9683e90a6"
      },
      "execution_count": 7,
      "outputs": [
        {
          "output_type": "stream",
          "name": "stdout",
          "text": [
            "\\ʕ•͡ᴥ•ʔ              /\n"
          ]
        }
      ]
    },
    {
      "cell_type": "code",
      "source": [
        "print(f'\\{face:>20s}/')#靠右"
      ],
      "metadata": {
        "colab": {
          "base_uri": "https://localhost:8080/"
        },
        "id": "7-f98FN79r0T",
        "outputId": "b1bf9d3c-3297-4415-8386-15bd6b9609d9"
      },
      "execution_count": 10,
      "outputs": [
        {
          "output_type": "stream",
          "name": "stdout",
          "text": [
            "\\              ʕ•͡ᴥ•ʔ/\n"
          ]
        }
      ]
    },
    {
      "cell_type": "code",
      "source": [
        "print(f'\\{face:^20s}/')#置中"
      ],
      "metadata": {
        "colab": {
          "base_uri": "https://localhost:8080/"
        },
        "id": "TVbhvknn94Xg",
        "outputId": "8267021a-b311-4d32-e8d8-32ec5660d176"
      },
      "execution_count": 11,
      "outputs": [
        {
          "output_type": "stream",
          "name": "stdout",
          "text": [
            "\\       ʕ•͡ᴥ•ʔ       /\n"
          ]
        }
      ]
    },
    {
      "cell_type": "code",
      "source": [
        "for i in range(5):\n",
        "  s = '*'*(2*i+1)\n",
        "  print(f'{s:^10s}')"
      ],
      "metadata": {
        "colab": {
          "base_uri": "https://localhost:8080/"
        },
        "id": "iTklbHzC-C41",
        "outputId": "374e8075-95c8-48a6-f7be-55464af9fd90"
      },
      "execution_count": 23,
      "outputs": [
        {
          "output_type": "stream",
          "name": "stdout",
          "text": [
            "    *     \n",
            "   ***    \n",
            "  *****   \n",
            " *******  \n",
            "********* \n"
          ]
        }
      ]
    },
    {
      "cell_type": "code",
      "source": [
        "print(f'\\{face:*>20s}/')#靠右"
      ],
      "metadata": {
        "colab": {
          "base_uri": "https://localhost:8080/"
        },
        "id": "1Jow7V3H-3AR",
        "outputId": "d879cfaa-916e-446b-a2f3-0e289987ff7a"
      },
      "execution_count": 24,
      "outputs": [
        {
          "output_type": "stream",
          "name": "stdout",
          "text": [
            "\\**************ʕ•͡ᴥ•ʔ/\n"
          ]
        }
      ]
    },
    {
      "cell_type": "code",
      "source": [
        "print(f'\\{face:*^20s}/')#置中"
      ],
      "metadata": {
        "colab": {
          "base_uri": "https://localhost:8080/"
        },
        "id": "DWIznI3h_e6E",
        "outputId": "19bf0154-4334-4e3c-b7e5-a65b77995f51"
      },
      "execution_count": 25,
      "outputs": [
        {
          "output_type": "stream",
          "name": "stdout",
          "text": [
            "\\*******ʕ•͡ᴥ•ʔ*******/\n"
          ]
        }
      ]
    },
    {
      "cell_type": "code",
      "source": [
        "def number(n):\n",
        "  return f'{str(n):0>3s}'"
      ],
      "metadata": {
        "id": "tCfa-3HDA5x3"
      },
      "execution_count": 32,
      "outputs": []
    },
    {
      "cell_type": "code",
      "source": [
        "number(17)"
      ],
      "metadata": {
        "colab": {
          "base_uri": "https://localhost:8080/",
          "height": 36
        },
        "id": "DznwKURjBElS",
        "outputId": "93e12c45-6f08-4720-cc3c-14a42961e22e"
      },
      "execution_count": 36,
      "outputs": [
        {
          "output_type": "execute_result",
          "data": {
            "text/plain": [
              "'017'"
            ],
            "application/vnd.google.colaboratory.intrinsic+json": {
              "type": "string"
            }
          },
          "metadata": {},
          "execution_count": 36
        }
      ]
    },
    {
      "cell_type": "code",
      "source": [
        "n = 17\n",
        "print(f'{str(n):0>3s}')"
      ],
      "metadata": {
        "colab": {
          "base_uri": "https://localhost:8080/"
        },
        "id": "q4GJY3d6_jCW",
        "outputId": "7e33b622-a7f9-4f69-a217-056b4f9ae36f"
      },
      "execution_count": 63,
      "outputs": [
        {
          "output_type": "stream",
          "name": "stdout",
          "text": [
            "017\n"
          ]
        }
      ]
    },
    {
      "cell_type": "code",
      "source": [
        "n=17\n",
        "print(str(n).zfill(3))"
      ],
      "metadata": {
        "colab": {
          "base_uri": "https://localhost:8080/"
        },
        "id": "pofiHE8vASkF",
        "outputId": "91a040ab-c24f-4b7b-fd2b-a1f32f662c7f"
      },
      "execution_count": 39,
      "outputs": [
        {
          "output_type": "stream",
          "name": "stdout",
          "text": [
            "017\n"
          ]
        }
      ]
    },
    {
      "cell_type": "code",
      "source": [
        "from IPython.display import display, HTML, Markdown, Image, YouTubeVideo"
      ],
      "metadata": {
        "id": "3Xjf9R2yDMCY"
      },
      "execution_count": 40,
      "outputs": []
    },
    {
      "cell_type": "code",
      "source": [
        "md_str = '##試驗一下'\n",
        "md = Markdown(md_str)\n",
        "display(md)"
      ],
      "metadata": {
        "colab": {
          "base_uri": "https://localhost:8080/",
          "height": 64
        },
        "id": "gANTBfQBMFfK",
        "outputId": "7c639dde-6f26-459a-e7c5-92d0590191b9"
      },
      "execution_count": 42,
      "outputs": [
        {
          "output_type": "display_data",
          "data": {
            "text/plain": [
              "<IPython.core.display.Markdown object>"
            ],
            "text/markdown": "##試驗一下"
          },
          "metadata": {}
        }
      ]
    },
    {
      "cell_type": "code",
      "source": [
        "for i in range(3):\n",
        "  display (md)"
      ],
      "metadata": {
        "colab": {
          "base_uri": "https://localhost:8080/",
          "height": 151
        },
        "id": "R5YAO0sYMQ6e",
        "outputId": "e704fcf2-3329-420f-9131-9d1a097bc799"
      },
      "execution_count": 43,
      "outputs": [
        {
          "output_type": "display_data",
          "data": {
            "text/plain": [
              "<IPython.core.display.Markdown object>"
            ],
            "text/markdown": "##試驗一下"
          },
          "metadata": {}
        },
        {
          "output_type": "display_data",
          "data": {
            "text/plain": [
              "<IPython.core.display.Markdown object>"
            ],
            "text/markdown": "##試驗一下"
          },
          "metadata": {}
        },
        {
          "output_type": "display_data",
          "data": {
            "text/plain": [
              "<IPython.core.display.Markdown object>"
            ],
            "text/markdown": "##試驗一下"
          },
          "metadata": {}
        }
      ]
    },
    {
      "cell_type": "code",
      "source": [
        "md_str = '''##題目\n",
        "請求因式分解:\n",
        "\n",
        "$f(x) = x^2-2x+5$\n",
        "'''\n",
        "md = Markdown(md_str)\n",
        "display(md)"
      ],
      "metadata": {
        "colab": {
          "base_uri": "https://localhost:8080/",
          "height": 118
        },
        "id": "FjjRqOSsMZwf",
        "outputId": "6b09248d-3150-470c-b3b2-9912e4c6aa9f"
      },
      "execution_count": 49,
      "outputs": [
        {
          "output_type": "display_data",
          "data": {
            "text/plain": [
              "<IPython.core.display.Markdown object>"
            ],
            "text/markdown": "##題目\n請求因式分解:\n\n$f(x) = x^2-2x+5$\n"
          },
          "metadata": {}
        }
      ]
    },
    {
      "cell_type": "code",
      "source": [
        "from numpy.random import randint"
      ],
      "metadata": {
        "id": "tT27ZecCMwxl"
      },
      "execution_count": 50,
      "outputs": []
    },
    {
      "cell_type": "code",
      "source": [
        "randint(1,10,4)"
      ],
      "metadata": {
        "colab": {
          "base_uri": "https://localhost:8080/"
        },
        "id": "REvrz8k6NLML",
        "outputId": "342716f6-e568-4f2a-8f71-c1eabdb86d4c"
      },
      "execution_count": 51,
      "outputs": [
        {
          "output_type": "execute_result",
          "data": {
            "text/plain": [
              "array([3, 4, 5, 2])"
            ]
          },
          "metadata": {},
          "execution_count": 51
        }
      ]
    },
    {
      "cell_type": "code",
      "source": [
        "a,b,c,d = randint(1,10,4)\n",
        "display(Markdown('###請回答下列問題:'))\n",
        "display(Markdown(f'$\\dfrac{a}{b}+\\dfrac{c}{d}=?$'))"
      ],
      "metadata": {
        "colab": {
          "base_uri": "https://localhost:8080/",
          "height": 100
        },
        "id": "UBf9Xt4HNNhr",
        "outputId": "e54cf15c-3d53-4542-f75b-ccea7e2b648b"
      },
      "execution_count": 54,
      "outputs": [
        {
          "output_type": "display_data",
          "data": {
            "text/plain": [
              "<IPython.core.display.Markdown object>"
            ],
            "text/markdown": "###請回答下列問題:"
          },
          "metadata": {}
        },
        {
          "output_type": "display_data",
          "data": {
            "text/plain": [
              "<IPython.core.display.Markdown object>"
            ],
            "text/markdown": "$\\dfrac45+\\dfrac73=?$"
          },
          "metadata": {}
        }
      ]
    },
    {
      "cell_type": "code",
      "source": [
        "cup = Image('/content/sample_data/1.jpg')\n",
        "display(cup)"
      ],
      "metadata": {
        "colab": {
          "base_uri": "https://localhost:8080/",
          "height": 517
        },
        "id": "CIv32fD0OTe2",
        "outputId": "23632172-a46d-4360-f2a3-ef10d0d10eee"
      },
      "execution_count": 60,
      "outputs": [
        {
          "output_type": "display_data",
          "data": {
            "image/jpeg": "[encoded data removed]",
            "text/plain": [
              "<IPython.core.display.Image object>"
            ]
          },
          "metadata": {}
        }
      ]
    },
    {
      "cell_type": "code",
      "source": [
        "video = YouTubeVideo('5QKydStn8YU')\n",
        "display(video)"
      ],
      "metadata": {
        "colab": {
          "base_uri": "https://localhost:8080/",
          "height": 321
        },
        "id": "OZDvLNZpOm4k",
        "outputId": "38d30b77-292d-48a2-d7fc-0d8a01e5c455"
      },
      "execution_count": 62,
      "outputs": [
        {
          "output_type": "display_data",
          "data": {
            "text/plain": [
              "<IPython.lib.display.YouTubeVideo at 0x7f46566657b0>"
            ],
            "text/html": [
              "\n",
              "        <iframe\n",
              "            width=\"400\"\n",
              "            height=\"300\"\n",
              "            src=\"https://www.youtube.com/embed/5QKydStn8YU\"\n",
              "            frameborder=\"0\"\n",
              "            allowfullscreen\n",
              "            \n",
              "        ></iframe>\n",
              "        "
            ],
            "image/jpeg": "[encoded data removed]"
          },
          "metadata": {}
        }
      ]
    }
  ]
}