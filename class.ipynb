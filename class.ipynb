{
  "nbformat": 4,
  "nbformat_minor": 0,
  "metadata": {
    "colab": {
      "provenance": [],
      "authorship_tag": "ABX9TyNBov+AVR0iOOTSqT6IdxhT",
      "include_colab_link": true
    },
    "kernelspec": {
      "name": "python3",
      "display_name": "Python 3"
    },
    "language_info": {
      "name": "python"
    }
  },
  "cells": [
    {
      "cell_type": "markdown",
      "metadata": {
        "id": "view-in-github",
        "colab_type": "text"
      },
      "source": [
        "<a href=\"https://colab.research.google.com/github/r90108/colab/blob/main/class.ipynb\" target=\"_parent\"><img src=\"https://colab.research.google.com/assets/colab-badge.svg\" alt=\"Open In Colab\"/></a>"
      ]
    },
    {
      "cell_type": "code",
      "execution_count": 2,
      "metadata": {
        "id": "-6xIRJUwYIHw"
      },
      "outputs": [],
      "source": [
        "%matplotlib inline\n",
        "import numpy as np\n",
        "import matplotlib.pyplot as plt\n",
        "import pandas as pd"
      ]
    },
    {
      "cell_type": "code",
      "source": [
        "st = '掰掰明天見'"
      ],
      "metadata": {
        "id": "SJsn0n8cYXi2"
      },
      "execution_count": 3,
      "outputs": []
    },
    {
      "cell_type": "markdown",
      "source": [
        "###物件導向的程式語言，一個物件可以有自己的內建函數\n",
        "\n",
        "物件名稱(st).tab顯示它可以用的所有函數"
      ],
      "metadata": {
        "id": "YQ7Brvhkbtgp"
      }
    },
    {
      "cell_type": "code",
      "source": [
        "st"
      ],
      "metadata": {
        "colab": {
          "base_uri": "https://localhost:8080/",
          "height": 36
        },
        "id": "0qECB8-paiRp",
        "outputId": "509ba1a1-bb34-457c-dc6a-634b330c743f"
      },
      "execution_count": 4,
      "outputs": [
        {
          "output_type": "execute_result",
          "data": {
            "text/plain": [
              "'掰掰明天見'"
            ],
            "application/vnd.google.colaboratory.intrinsic+json": {
              "type": "string"
            }
          },
          "metadata": {},
          "execution_count": 4
        }
      ]
    },
    {
      "cell_type": "code",
      "source": [
        "print(st)"
      ],
      "metadata": {
        "colab": {
          "base_uri": "https://localhost:8080/"
        },
        "id": "fItd33I_ajDy",
        "outputId": "03dc71cb-ca6d-43a4-a92e-02bc4648ffe9"
      },
      "execution_count": 5,
      "outputs": [
        {
          "output_type": "stream",
          "name": "stdout",
          "text": [
            "掰掰明天見\n"
          ]
        }
      ]
    },
    {
      "cell_type": "code",
      "source": [
        "st.count('掰')"
      ],
      "metadata": {
        "colab": {
          "base_uri": "https://localhost:8080/"
        },
        "id": "keCbdhUmakJP",
        "outputId": "d1a38f86-e4ec-4c50-d2dc-145133c06076"
      },
      "execution_count": 6,
      "outputs": [
        {
          "output_type": "execute_result",
          "data": {
            "text/plain": [
              "2"
            ]
          },
          "metadata": {},
          "execution_count": 6
        }
      ]
    },
    {
      "cell_type": "markdown",
      "source": [
        "##定義資料型態\n",
        "*  建立撲克牌的資料型態"
      ],
      "metadata": {
        "id": "w6IljO05bk7r"
      }
    },
    {
      "cell_type": "code",
      "source": [
        "class Card:\n",
        "  suit = 3 #花色\n",
        "  rank = 5 #點數"
      ],
      "metadata": {
        "id": "ey0d74JyamSZ"
      },
      "execution_count": 7,
      "outputs": []
    },
    {
      "cell_type": "code",
      "source": [
        "card01 = Card() "
      ],
      "metadata": {
        "id": "IJiJQDtIbWuf"
      },
      "execution_count": 8,
      "outputs": []
    },
    {
      "cell_type": "code",
      "source": [
        "card02 = Card()"
      ],
      "metadata": {
        "id": "a7G4IWsqbhml"
      },
      "execution_count": 9,
      "outputs": []
    },
    {
      "cell_type": "code",
      "source": [
        "card01.suit"
      ],
      "metadata": {
        "colab": {
          "base_uri": "https://localhost:8080/"
        },
        "id": "21aSZxC_bkG7",
        "outputId": "23fe33cf-78af-4896-f753-3fa2da54fc8e"
      },
      "execution_count": 10,
      "outputs": [
        {
          "output_type": "execute_result",
          "data": {
            "text/plain": [
              "3"
            ]
          },
          "metadata": {},
          "execution_count": 10
        }
      ]
    },
    {
      "cell_type": "code",
      "source": [
        "card01.suit = 2"
      ],
      "metadata": {
        "id": "37kEXQlwevto"
      },
      "execution_count": 11,
      "outputs": []
    },
    {
      "cell_type": "code",
      "source": [
        "card01.suit"
      ],
      "metadata": {
        "colab": {
          "base_uri": "https://localhost:8080/"
        },
        "id": "HvJYP5l9ey8x",
        "outputId": "7158a6b2-378f-4ff2-e62a-c910be59fe9c"
      },
      "execution_count": 12,
      "outputs": [
        {
          "output_type": "execute_result",
          "data": {
            "text/plain": [
              "2"
            ]
          },
          "metadata": {},
          "execution_count": 12
        }
      ]
    },
    {
      "cell_type": "code",
      "source": [
        "type(st)"
      ],
      "metadata": {
        "colab": {
          "base_uri": "https://localhost:8080/"
        },
        "id": "mc6HkbxZe2Id",
        "outputId": "96d73c3b-292e-4cfc-a36b-474cc0306f0b"
      },
      "execution_count": 13,
      "outputs": [
        {
          "output_type": "execute_result",
          "data": {
            "text/plain": [
              "str"
            ]
          },
          "metadata": {},
          "execution_count": 13
        }
      ]
    },
    {
      "cell_type": "code",
      "source": [
        "type(card01)"
      ],
      "metadata": {
        "colab": {
          "base_uri": "https://localhost:8080/"
        },
        "id": "zKh_r2txe6hu",
        "outputId": "90d01d58-c8c5-4626-b025-26053d7196c1"
      },
      "execution_count": 14,
      "outputs": [
        {
          "output_type": "execute_result",
          "data": {
            "text/plain": [
              "__main__.Card"
            ]
          },
          "metadata": {},
          "execution_count": 14
        }
      ]
    },
    {
      "cell_type": "markdown",
      "source": [
        "##希望\n",
        "card01 = Card(1, 10)\n",
        "##特別方法\n",
        "    __init__"
      ],
      "metadata": {
        "id": "DX_M7e64l1pQ"
      }
    },
    {
      "cell_type": "code",
      "source": [
        "class Card:\n",
        "  def __init__(self, s, r):\n",
        "    self.suit = s\n",
        "    self.rank = r"
      ],
      "metadata": {
        "id": "k2579N2De8MI"
      },
      "execution_count": 15,
      "outputs": []
    },
    {
      "cell_type": "code",
      "source": [
        "card01 = Card(2, 10)"
      ],
      "metadata": {
        "id": "69Aaoy9TnGjD"
      },
      "execution_count": 16,
      "outputs": []
    },
    {
      "cell_type": "code",
      "source": [
        "card01.suit"
      ],
      "metadata": {
        "colab": {
          "base_uri": "https://localhost:8080/"
        },
        "id": "Indrwq4inNrD",
        "outputId": "6da5fffb-1eae-4356-ecd3-c4f7f6969a56"
      },
      "execution_count": 17,
      "outputs": [
        {
          "output_type": "execute_result",
          "data": {
            "text/plain": [
              "2"
            ]
          },
          "metadata": {},
          "execution_count": 17
        }
      ]
    },
    {
      "cell_type": "code",
      "source": [
        "card01.rank"
      ],
      "metadata": {
        "colab": {
          "base_uri": "https://localhost:8080/"
        },
        "id": "PcjxMCB8nQi7",
        "outputId": "4fb735b3-1453-4f13-fe6d-9e5907c004ca"
      },
      "execution_count": 18,
      "outputs": [
        {
          "output_type": "execute_result",
          "data": {
            "text/plain": [
              "10"
            ]
          },
          "metadata": {},
          "execution_count": 18
        }
      ]
    },
    {
      "cell_type": "code",
      "source": [
        "class Card:\n",
        "\n",
        "  SUITS = ['♠','♥','◆','♣']\n",
        "  RANKS = ['A', '2', '3', '4', '5', '6', '7', '8', '9', '10', 'J', 'Q', 'K']\n",
        " \n",
        "  def __init__(self, s, r):\n",
        "    self.suit = s\n",
        "    self.rank = r\n",
        "\n",
        "  def show(self):\n",
        "    thecard = self.SUITS[self.suit] + self.RANKS[self.rank]\n",
        "    print(thecard)\n"
      ],
      "metadata": {
        "id": "6niuj2zpnSbx"
      },
      "execution_count": 19,
      "outputs": []
    },
    {
      "cell_type": "code",
      "source": [
        "card01 = Card(0,0)\n",
        "card02 = Card(2,12)"
      ],
      "metadata": {
        "id": "vfL48nI5onq7"
      },
      "execution_count": 20,
      "outputs": []
    },
    {
      "cell_type": "code",
      "source": [
        "card01.show()\n",
        "card02.show()"
      ],
      "metadata": {
        "colab": {
          "base_uri": "https://localhost:8080/"
        },
        "id": "BLlxOkkGpnK2",
        "outputId": "294610f1-4d75-4155-ad02-7593fa8aaeaa"
      },
      "execution_count": 21,
      "outputs": [
        {
          "output_type": "stream",
          "name": "stdout",
          "text": [
            "♠A\n",
            "◆K\n"
          ]
        }
      ]
    },
    {
      "cell_type": "code",
      "source": [
        "card01"
      ],
      "metadata": {
        "colab": {
          "base_uri": "https://localhost:8080/"
        },
        "id": "l_KLHIVxs6K_",
        "outputId": "4e6aaf67-8a1b-44ab-a05e-a51231991147"
      },
      "execution_count": 22,
      "outputs": [
        {
          "output_type": "execute_result",
          "data": {
            "text/plain": [
              "<__main__.Card at 0x7f3077d3ec80>"
            ]
          },
          "metadata": {},
          "execution_count": 22
        }
      ]
    },
    {
      "cell_type": "code",
      "source": [
        "print(card02)"
      ],
      "metadata": {
        "colab": {
          "base_uri": "https://localhost:8080/"
        },
        "id": "TFBIT1FhtAFk",
        "outputId": "e658eb57-6ecd-492d-b115-fa241de1815d"
      },
      "execution_count": 23,
      "outputs": [
        {
          "output_type": "stream",
          "name": "stdout",
          "text": [
            "<__main__.Card object at 0x7f3077d3ec20>\n"
          ]
        }
      ]
    },
    {
      "cell_type": "code",
      "source": [
        "class Card:\n",
        "\n",
        "  SUITS = ['♠','♥','◆','♣']\n",
        "  RANKS = ['A', '2', '3', '4', '5', '6', '7', '8', '9', '10', 'J', 'Q', 'K']\n",
        "  \n",
        "  def __init__(self, s, r):\n",
        "    self.suit = s\n",
        "    self.rank = r\n",
        "\n",
        "  def __repr__(self):\n",
        "    thecard = self.SUITS[self.suit] + self.RANKS[self.rank]\n",
        "    return thecard\n"
      ],
      "metadata": {
        "id": "DUshGjQbp73G"
      },
      "execution_count": 24,
      "outputs": []
    },
    {
      "cell_type": "code",
      "source": [
        "card01 = Card(0,7)\n",
        "card02 = Card(1,11)"
      ],
      "metadata": {
        "id": "os3t1OfCqYFD"
      },
      "execution_count": 25,
      "outputs": []
    },
    {
      "cell_type": "code",
      "source": [
        "card01"
      ],
      "metadata": {
        "colab": {
          "base_uri": "https://localhost:8080/"
        },
        "id": "hTzVRsaDsl7U",
        "outputId": "bf2c4c8d-9be9-4c9f-ffb8-49b166891bda"
      },
      "execution_count": 26,
      "outputs": [
        {
          "output_type": "execute_result",
          "data": {
            "text/plain": [
              "♠8"
            ]
          },
          "metadata": {},
          "execution_count": 26
        }
      ]
    },
    {
      "cell_type": "code",
      "source": [
        "print(card02)"
      ],
      "metadata": {
        "colab": {
          "base_uri": "https://localhost:8080/"
        },
        "id": "pipissmOs0Pe",
        "outputId": "d742b529-9d3e-475c-c303-4db0f67fc791"
      },
      "execution_count": 27,
      "outputs": [
        {
          "output_type": "stream",
          "name": "stdout",
          "text": [
            "♥Q\n"
          ]
        }
      ]
    },
    {
      "cell_type": "code",
      "source": [
        "mydic = {'apple':'蘋果','orange':'橘子','banana':'香蕉'}"
      ],
      "metadata": {
        "id": "ui-BXchQs3rd"
      },
      "execution_count": 38,
      "outputs": []
    },
    {
      "cell_type": "code",
      "source": [
        "mydic.keys()"
      ],
      "metadata": {
        "colab": {
          "base_uri": "https://localhost:8080/"
        },
        "id": "EwvJuPuq1I8f",
        "outputId": "b508494b-06e6-4d96-c8f2-1fa7c95711c2"
      },
      "execution_count": 29,
      "outputs": [
        {
          "output_type": "execute_result",
          "data": {
            "text/plain": [
              "dict_keys(['apple', 'orange', 'banana'])"
            ]
          },
          "metadata": {},
          "execution_count": 29
        }
      ]
    },
    {
      "cell_type": "code",
      "source": [
        "mydic.values()"
      ],
      "metadata": {
        "colab": {
          "base_uri": "https://localhost:8080/"
        },
        "id": "VdeFJ0_d1L3M",
        "outputId": "d9887c4b-d8a8-484b-e0d3-95dec934d361"
      },
      "execution_count": 30,
      "outputs": [
        {
          "output_type": "execute_result",
          "data": {
            "text/plain": [
              "dict_values(['蘋果', '橘子', '香蕉'])"
            ]
          },
          "metadata": {},
          "execution_count": 30
        }
      ]
    },
    {
      "cell_type": "code",
      "source": [
        "for eng in mydic.keys():\n",
        "  print(eng,mydic[eng])"
      ],
      "metadata": {
        "colab": {
          "base_uri": "https://localhost:8080/"
        },
        "id": "5xBDJnkc1Q7u",
        "outputId": "e345874c-a223-4d08-f8c0-058a0e3c8682"
      },
      "execution_count": 32,
      "outputs": [
        {
          "output_type": "stream",
          "name": "stdout",
          "text": [
            "apple 蘋果\n",
            "orange 橘子\n",
            "banana 香蕉\n"
          ]
        }
      ]
    },
    {
      "cell_type": "code",
      "source": [
        "for eng in mydic.keys():\n",
        "  print(eng + ',' + mydic[eng])"
      ],
      "metadata": {
        "colab": {
          "base_uri": "https://localhost:8080/"
        },
        "id": "bIOkv49LnSa3",
        "outputId": "0ea20e9f-9a71-4c94-9ef2-8e57d9c2bdb4"
      },
      "execution_count": 34,
      "outputs": [
        {
          "output_type": "stream",
          "name": "stdout",
          "text": [
            "apple,蘋果\n",
            "orange,橘子\n",
            "banana,香蕉\n"
          ]
        }
      ]
    },
    {
      "cell_type": "code",
      "source": [
        "for eng in mydic.keys():\n",
        "  chi = mydic[eng]\n",
        "  print(f'{eng},{chi}')"
      ],
      "metadata": {
        "colab": {
          "base_uri": "https://localhost:8080/"
        },
        "id": "VR2eLZ90ncJF",
        "outputId": "ddb6ca6d-4b21-42e9-f936-ce1a23a924e0"
      },
      "execution_count": 41,
      "outputs": [
        {
          "output_type": "stream",
          "name": "stdout",
          "text": [
            "apple,蘋果\n",
            "orange,橘子\n",
            "banana,香蕉\n"
          ]
        }
      ]
    },
    {
      "cell_type": "code",
      "source": [
        "for eng in mydic.keys():\n",
        "  spam = [eng,mydic[eng]]\n",
        "  print(','.join(spam))"
      ],
      "metadata": {
        "colab": {
          "base_uri": "https://localhost:8080/"
        },
        "id": "1su4619c1yYd",
        "outputId": "d63a34f6-fb8d-4cc3-cbd0-460faa08a2ca"
      },
      "execution_count": 33,
      "outputs": [
        {
          "output_type": "stream",
          "name": "stdout",
          "text": [
            "apple,蘋果\n",
            "orange,橘子\n",
            "banana,香蕉\n"
          ]
        }
      ]
    },
    {
      "cell_type": "markdown",
      "source": [
        "###存檔"
      ],
      "metadata": {
        "id": "bF7pwhFto3Vh"
      }
    },
    {
      "cell_type": "code",
      "source": [
        "f = open('mydic.csv','w')"
      ],
      "metadata": {
        "id": "r1UwS_oYnRc0"
      },
      "execution_count": 44,
      "outputs": []
    },
    {
      "cell_type": "code",
      "source": [
        "for eng in mydic.keys():\n",
        "  print(eng + ',' + mydic[eng], file=f)"
      ],
      "metadata": {
        "id": "PWgbDZydoubD"
      },
      "execution_count": 45,
      "outputs": []
    },
    {
      "cell_type": "code",
      "source": [
        "f.close()"
      ],
      "metadata": {
        "id": "O5Mm4o0xo57V"
      },
      "execution_count": 46,
      "outputs": []
    },
    {
      "cell_type": "code",
      "source": [
        "%ls"
      ],
      "metadata": {
        "colab": {
          "base_uri": "https://localhost:8080/"
        },
        "id": "Qa_5YEI1o8Hm",
        "outputId": "bf083896-77f3-49fd-8ea6-d87779d6baef"
      },
      "execution_count": 47,
      "outputs": [
        {
          "output_type": "stream",
          "name": "stdout",
          "text": [
            "mydic.csv  \u001b[0m\u001b[01;34msample_data\u001b[0m/\n"
          ]
        }
      ]
    },
    {
      "cell_type": "code",
      "source": [
        "%cat mydic.csv"
      ],
      "metadata": {
        "colab": {
          "base_uri": "https://localhost:8080/"
        },
        "id": "hhxRuqI1pIQN",
        "outputId": "ed7c5f89-f31d-447f-d306-8c0b276fd99e"
      },
      "execution_count": 50,
      "outputs": [
        {
          "output_type": "stream",
          "name": "stdout",
          "text": [
            "apple,蘋果\n",
            "orange,橘子\n",
            "banana,香蕉\n"
          ]
        }
      ]
    },
    {
      "cell_type": "code",
      "source": [
        "f = open('mydic.csv','r')"
      ],
      "metadata": {
        "id": "mKyQ_am0paF5"
      },
      "execution_count": 56,
      "outputs": []
    },
    {
      "cell_type": "code",
      "source": [
        "mydata = f.readlines()"
      ],
      "metadata": {
        "id": "zvJqwRuxp9OF"
      },
      "execution_count": 57,
      "outputs": []
    },
    {
      "cell_type": "code",
      "source": [
        "f.close()"
      ],
      "metadata": {
        "id": "1hY_w-DRqF5B"
      },
      "execution_count": 58,
      "outputs": []
    },
    {
      "cell_type": "code",
      "source": [
        "mydata"
      ],
      "metadata": {
        "colab": {
          "base_uri": "https://localhost:8080/"
        },
        "id": "86rbFlSDqHbu",
        "outputId": "b41bbfbc-ccc2-4fa2-b822-049e7cfcc095"
      },
      "execution_count": 59,
      "outputs": [
        {
          "output_type": "execute_result",
          "data": {
            "text/plain": [
              "['apple,蘋果\\n', 'orange,橘子\\n', 'banana,香蕉\\n']"
            ]
          },
          "metadata": {},
          "execution_count": 59
        }
      ]
    },
    {
      "cell_type": "code",
      "source": [
        "for line in mydata:\n",
        "  print(line)"
      ],
      "metadata": {
        "colab": {
          "base_uri": "https://localhost:8080/"
        },
        "id": "O9oVXfl6qUdr",
        "outputId": "7c4fee51-db24-43b9-f671-35ea86bef163"
      },
      "execution_count": 76,
      "outputs": [
        {
          "output_type": "stream",
          "name": "stdout",
          "text": [
            "apple,蘋果\n",
            "\n",
            "orange,橘子\n",
            "\n",
            "banana,香蕉\n",
            "\n"
          ]
        }
      ]
    },
    {
      "cell_type": "code",
      "source": [
        "line = mydata[1]"
      ],
      "metadata": {
        "id": "-I6ZNvVurGRX"
      },
      "execution_count": 77,
      "outputs": []
    },
    {
      "cell_type": "code",
      "source": [
        "line.rstrip('\\n').split(',')"
      ],
      "metadata": {
        "colab": {
          "base_uri": "https://localhost:8080/"
        },
        "id": "d1Yks_30roAX",
        "outputId": "1553dfdf-b555-4d45-bf3c-f41c8f8666a0"
      },
      "execution_count": 78,
      "outputs": [
        {
          "output_type": "execute_result",
          "data": {
            "text/plain": [
              "['orange', '橘子']"
            ]
          },
          "metadata": {},
          "execution_count": 78
        }
      ]
    },
    {
      "cell_type": "code",
      "source": [
        "eng, chi = line.rstrip('\\n').split(',')"
      ],
      "metadata": {
        "id": "30HrUZ6mu20d"
      },
      "execution_count": 79,
      "outputs": []
    },
    {
      "cell_type": "code",
      "source": [
        "newdic = {}\n",
        "\n",
        "for line in mydata:\n",
        "  eng, chi = line.rstrip('\\n').split(',')\n",
        "  newdic[eng] = chi"
      ],
      "metadata": {
        "id": "qdexYfZjsOFh"
      },
      "execution_count": 82,
      "outputs": []
    },
    {
      "cell_type": "code",
      "source": [
        "newdic"
      ],
      "metadata": {
        "colab": {
          "base_uri": "https://localhost:8080/"
        },
        "id": "zuJ8YV7zs0Io",
        "outputId": "daead648-35d9-4272-8a93-7a83ad1c8f73"
      },
      "execution_count": 83,
      "outputs": [
        {
          "output_type": "execute_result",
          "data": {
            "text/plain": [
              "{'apple': '蘋果', 'orange': '橘子', 'banana': '香蕉'}"
            ]
          },
          "metadata": {},
          "execution_count": 83
        }
      ]
    },
    {
      "cell_type": "markdown",
      "source": [
        "##Python 的 Pickle 存取法"
      ],
      "metadata": {
        "id": "Yt7ibkh0w3fa"
      }
    },
    {
      "cell_type": "code",
      "source": [
        "mydic"
      ],
      "metadata": {
        "colab": {
          "base_uri": "https://localhost:8080/"
        },
        "id": "wNDGTQG9vkxj",
        "outputId": "0b8bf4d1-4bbb-44aa-85bf-04a5d0380ec0"
      },
      "execution_count": 84,
      "outputs": [
        {
          "output_type": "execute_result",
          "data": {
            "text/plain": [
              "{'apple': '蘋果', 'orange': '橘子', 'banana': '香蕉'}"
            ]
          },
          "metadata": {},
          "execution_count": 84
        }
      ]
    },
    {
      "cell_type": "code",
      "source": [
        "import pickle"
      ],
      "metadata": {
        "id": "fw8x1o_2xCDY"
      },
      "execution_count": 85,
      "outputs": []
    },
    {
      "cell_type": "code",
      "source": [
        "f = open('mydic.pickle','wb')"
      ],
      "metadata": {
        "id": "2yNH3mOTxF34"
      },
      "execution_count": 86,
      "outputs": []
    },
    {
      "cell_type": "code",
      "source": [
        "pickle.dump(mydic,f)"
      ],
      "metadata": {
        "id": "-xobh-m_xZ9J"
      },
      "execution_count": 87,
      "outputs": []
    },
    {
      "cell_type": "code",
      "source": [
        "f.close()"
      ],
      "metadata": {
        "id": "3jFYbzo6xfCG"
      },
      "execution_count": 88,
      "outputs": []
    },
    {
      "cell_type": "code",
      "source": [
        "f = open('mydic.pickle','rb')"
      ],
      "metadata": {
        "id": "3T5yJpk5xhEJ"
      },
      "execution_count": 95,
      "outputs": []
    },
    {
      "cell_type": "code",
      "source": [
        "egg = pickle.load(f)"
      ],
      "metadata": {
        "id": "LuMCzCDsxpog"
      },
      "execution_count": 96,
      "outputs": []
    },
    {
      "cell_type": "code",
      "source": [
        "f.close()"
      ],
      "metadata": {
        "id": "Vyt592Zmx-aP"
      },
      "execution_count": 97,
      "outputs": []
    },
    {
      "cell_type": "code",
      "source": [
        "egg"
      ],
      "metadata": {
        "colab": {
          "base_uri": "https://localhost:8080/"
        },
        "id": "MJqmYQE3x_x8",
        "outputId": "408a49a0-c8c3-4a95-8a42-236b7c3e1884"
      },
      "execution_count": 98,
      "outputs": [
        {
          "output_type": "execute_result",
          "data": {
            "text/plain": [
              "{'apple': '蘋果', 'orange': '橘子', 'banana': '香蕉'}"
            ]
          },
          "metadata": {},
          "execution_count": 98
        }
      ]
    },
    {
      "cell_type": "markdown",
      "source": [
        "##隨意用個檔案"
      ],
      "metadata": {
        "id": "F992qUc6yBLK"
      }
    },
    {
      "cell_type": "code",
      "source": [
        "%%writefile 'test.txt'\n",
        "你 淺淺的 微笑  就像 烏梅子醬\n",
        "我 嘗了 你 嘴角 味道  我 好喜歡"
      ],
      "metadata": {
        "colab": {
          "base_uri": "https://localhost:8080/"
        },
        "id": "BL4Z1rZF0gpi",
        "outputId": "c2a604ae-6524-4aeb-e153-4bc1b77258c3"
      },
      "execution_count": 139,
      "outputs": [
        {
          "output_type": "stream",
          "name": "stdout",
          "text": [
            "Overwriting test.txt\n"
          ]
        }
      ]
    },
    {
      "cell_type": "code",
      "source": [
        "%cat test.txt"
      ],
      "metadata": {
        "colab": {
          "base_uri": "https://localhost:8080/"
        },
        "id": "5oG9PaRx03TI",
        "outputId": "f4265b63-90c8-4290-df51-0b4ddfeddd31"
      },
      "execution_count": 140,
      "outputs": [
        {
          "output_type": "stream",
          "name": "stdout",
          "text": [
            "你 淺淺的 微笑  就像 烏梅子醬\n",
            "我 嘗了 你 嘴角 味道  我 好喜歡\n"
          ]
        }
      ]
    },
    {
      "cell_type": "code",
      "source": [
        "f = open('test.txt','r')"
      ],
      "metadata": {
        "id": "22Wwhrj008H_"
      },
      "execution_count": 141,
      "outputs": []
    },
    {
      "cell_type": "code",
      "source": [
        "song = f.readlines()"
      ],
      "metadata": {
        "id": "l45GXTve2AP9"
      },
      "execution_count": 142,
      "outputs": []
    },
    {
      "cell_type": "code",
      "source": [
        "f.close()"
      ],
      "metadata": {
        "id": "m_o6hcEZ2Fi-"
      },
      "execution_count": 143,
      "outputs": []
    },
    {
      "cell_type": "code",
      "source": [
        "song "
      ],
      "metadata": {
        "colab": {
          "base_uri": "https://localhost:8080/"
        },
        "id": "1JZl-Qkj2HYP",
        "outputId": "ced92a8f-62fd-473b-ab36-fc1557df199a"
      },
      "execution_count": 144,
      "outputs": [
        {
          "output_type": "execute_result",
          "data": {
            "text/plain": [
              "['你 淺淺的 微笑  就像 烏梅子醬\\n', '我 嘗了 你 嘴角 味道  我 好喜歡\\n']"
            ]
          },
          "metadata": {},
          "execution_count": 144
        }
      ]
    },
    {
      "cell_type": "code",
      "source": [
        "line = song[1]"
      ],
      "metadata": {
        "id": "AZW3qQ3_2q1p"
      },
      "execution_count": 145,
      "outputs": []
    },
    {
      "cell_type": "code",
      "source": [
        "line"
      ],
      "metadata": {
        "colab": {
          "base_uri": "https://localhost:8080/",
          "height": 36
        },
        "id": "3IEBGymW23In",
        "outputId": "e70074db-7d16-4d9e-cec0-808888217c25"
      },
      "execution_count": 146,
      "outputs": [
        {
          "output_type": "execute_result",
          "data": {
            "text/plain": [
              "'我 嘗了 你 嘴角 味道  我 好喜歡\\n'"
            ],
            "application/vnd.google.colaboratory.intrinsic+json": {
              "type": "string"
            }
          },
          "metadata": {},
          "execution_count": 146
        }
      ]
    },
    {
      "cell_type": "code",
      "source": [
        "line.rstrip('\\n').split()"
      ],
      "metadata": {
        "colab": {
          "base_uri": "https://localhost:8080/"
        },
        "id": "0F0270j36sbI",
        "outputId": "edad1134-a9f2-4daa-cb8b-649e4d705636"
      },
      "execution_count": 158,
      "outputs": [
        {
          "output_type": "execute_result",
          "data": {
            "text/plain": [
              "['我', '嘗了', '你', '嘴角', '味道', '我', '好喜歡']"
            ]
          },
          "metadata": {},
          "execution_count": 158
        }
      ]
    },
    {
      "cell_type": "code",
      "source": [
        "line01 = line.rstrip('\\n').split(' ')"
      ],
      "metadata": {
        "id": "Q3Mv90UO4309"
      },
      "execution_count": 156,
      "outputs": []
    },
    {
      "cell_type": "code",
      "source": [
        "list(filter(lambda w:(w !=''),line01))"
      ],
      "metadata": {
        "colab": {
          "base_uri": "https://localhost:8080/"
        },
        "id": "WV8LEp4047qL",
        "outputId": "d8a88575-e35e-48da-a01b-55aac34cef6f"
      },
      "execution_count": 157,
      "outputs": [
        {
          "output_type": "execute_result",
          "data": {
            "text/plain": [
              "['我', '嘗了', '你', '嘴角', '味道', '我', '好喜歡']"
            ]
          },
          "metadata": {},
          "execution_count": 157
        }
      ]
    },
    {
      "cell_type": "code",
      "source": [
        "words = []\n",
        "for line in song:\n",
        "  newline = line.rstrip('\\n').split()\n",
        "  words.append(newline)\n",
        "print(words)"
      ],
      "metadata": {
        "colab": {
          "base_uri": "https://localhost:8080/"
        },
        "id": "lSl3WOfU54vW",
        "outputId": "4a94c145-8f59-41f2-f8c5-072a5e931ef6"
      },
      "execution_count": 162,
      "outputs": [
        {
          "output_type": "stream",
          "name": "stdout",
          "text": [
            "[['你', '淺淺的', '微笑', '就像', '烏梅子醬'], ['我', '嘗了', '你', '嘴角', '味道', '我', '好喜歡']]\n"
          ]
        }
      ]
    },
    {
      "cell_type": "code",
      "source": [
        "words = []\n",
        "for line in song:\n",
        "  newline = line.rstrip('\\n').split()\n",
        "  words = words + newline\n",
        "print(words)"
      ],
      "metadata": {
        "colab": {
          "base_uri": "https://localhost:8080/"
        },
        "id": "S53kISJ16-VN",
        "outputId": "5f0bef0e-5b1e-4795-8781-acb3d056d521"
      },
      "execution_count": 164,
      "outputs": [
        {
          "output_type": "stream",
          "name": "stdout",
          "text": [
            "['你', '淺淺的', '微笑', '就像', '烏梅子醬', '我', '嘗了', '你', '嘴角', '味道', '我', '好喜歡']\n"
          ]
        }
      ]
    }
  ]
}