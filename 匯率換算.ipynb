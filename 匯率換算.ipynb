{
  "nbformat": 4,
  "nbformat_minor": 0,
  "metadata": {
    "colab": {
      "provenance": [],
      "authorship_tag": "ABX9TyMqyan6o2XSScA0mS8prbHU",
      "include_colab_link": true
    },
    "kernelspec": {
      "name": "python3",
      "display_name": "Python 3"
    },
    "language_info": {
      "name": "python"
    }
  },
  "cells": [
    {
      "cell_type": "markdown",
      "metadata": {
        "id": "view-in-github",
        "colab_type": "text"
      },
      "source": [
        "<a href=\"https://colab.research.google.com/github/r90108/colab/blob/main/%E5%8C%AF%E7%8E%87%E6%8F%9B%E7%AE%97.ipynb\" target=\"_parent\"><img src=\"https://colab.research.google.com/assets/colab-badge.svg\" alt=\"Open In Colab\"/></a>"
      ]
    },
    {
      "cell_type": "code",
      "execution_count": 2,
      "metadata": {
        "id": "1UTqcq-TFbYJ"
      },
      "outputs": [],
      "source": [
        "%matplotlib inline\n",
        "import numpy as np\n",
        "import matplotlib.pyplot as plt\n",
        "import pandas as pd"
      ]
    },
    {
      "cell_type": "markdown",
      "source": [
        "###用 for迴圈"
      ],
      "metadata": {
        "id": "y-JYjreAJllD"
      }
    },
    {
      "cell_type": "code",
      "source": [
        "items = [500,30,2000]\n",
        "c = 30.8594\n",
        "ex = []\n",
        "for i in items:\n",
        "  ex.append(i*c)\n",
        "print(ex) "
      ],
      "metadata": {
        "colab": {
          "base_uri": "https://localhost:8080/"
        },
        "id": "1nNae0urFqxH",
        "outputId": "8d1e767a-f61d-49de-be4e-7c86b5f98adc"
      },
      "execution_count": 6,
      "outputs": [
        {
          "output_type": "stream",
          "name": "stdout",
          "text": [
            "[15429.7, 925.782, 61718.8]\n"
          ]
        }
      ]
    },
    {
      "cell_type": "markdown",
      "source": [
        "###用def函數"
      ],
      "metadata": {
        "id": "iExIo31qJqt7"
      }
    },
    {
      "cell_type": "code",
      "source": [
        "def exchange(p):\n",
        "  p = float(p)\n",
        "  return p*c"
      ],
      "metadata": {
        "id": "D5peD4m8GJFR"
      },
      "execution_count": 8,
      "outputs": []
    },
    {
      "cell_type": "markdown",
      "source": [
        "###map(f,L)把f這個函數用到L list中的每一個元素"
      ],
      "metadata": {
        "id": "mjQfWvxGLRl7"
      }
    },
    {
      "cell_type": "code",
      "source": [
        "list(map(exchange,items))"
      ],
      "metadata": {
        "colab": {
          "base_uri": "https://localhost:8080/"
        },
        "id": "eahUOBxaHceH",
        "outputId": "243ae80b-9488-4e0c-d15d-e74872e0451b"
      },
      "execution_count": 9,
      "outputs": [
        {
          "output_type": "execute_result",
          "data": {
            "text/plain": [
              "[15429.7, 925.782, 61718.8]"
            ]
          },
          "metadata": {},
          "execution_count": 9
        }
      ]
    },
    {
      "cell_type": "code",
      "source": [
        "ex = list(map(exchange,items))"
      ],
      "metadata": {
        "id": "Xheo_p1SHslJ"
      },
      "execution_count": 10,
      "outputs": []
    },
    {
      "cell_type": "markdown",
      "source": [
        "###lambda"
      ],
      "metadata": {
        "id": "oVbz5L_5JzhD"
      }
    },
    {
      "cell_type": "code",
      "source": [
        "list(map(lambda p:p*c,items))"
      ],
      "metadata": {
        "colab": {
          "base_uri": "https://localhost:8080/"
        },
        "id": "d70VLdDpIt2Z",
        "outputId": "f7a362f8-d8be-446c-f033-82c797128541"
      },
      "execution_count": 13,
      "outputs": [
        {
          "output_type": "execute_result",
          "data": {
            "text/plain": [
              "[15429.7, 925.782, 61718.8]"
            ]
          },
          "metadata": {},
          "execution_count": 13
        }
      ]
    },
    {
      "cell_type": "markdown",
      "source": [
        "###list comprehesion"
      ],
      "metadata": {
        "id": "asnj0OcuLmXF"
      }
    },
    {
      "cell_type": "code",
      "source": [
        "[float(p)*c for p in items]"
      ],
      "metadata": {
        "colab": {
          "base_uri": "https://localhost:8080/"
        },
        "id": "PWG8bjLOJNki",
        "outputId": "f4ff0cec-eedd-4f95-ff89-fc808248f4bc"
      },
      "execution_count": 15,
      "outputs": [
        {
          "output_type": "execute_result",
          "data": {
            "text/plain": [
              "[15429.7, 925.782, 61718.8]"
            ]
          },
          "metadata": {},
          "execution_count": 15
        }
      ]
    }
  ]
}