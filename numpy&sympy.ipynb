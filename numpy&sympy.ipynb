{
  "nbformat": 4,
  "nbformat_minor": 0,
  "metadata": {
    "colab": {
      "provenance": [],
      "authorship_tag": "ABX9TyOaCAW1fu0EK2Wl5qAVZV2N",
      "include_colab_link": true
    },
    "kernelspec": {
      "name": "python3",
      "display_name": "Python 3"
    },
    "language_info": {
      "name": "python"
    }
  },
  "cells": [
    {
      "cell_type": "markdown",
      "metadata": {
        "id": "view-in-github",
        "colab_type": "text"
      },
      "source": [
        "<a href=\"https://colab.research.google.com/github/r90108/colab/blob/main/numpy%26sympy.ipynb\" target=\"_parent\"><img src=\"https://colab.research.google.com/assets/colab-badge.svg\" alt=\"Open In Colab\"/></a>"
      ]
    },
    {
      "cell_type": "code",
      "execution_count": 1,
      "metadata": {
        "id": "ynWWpA1ZcPoq"
      },
      "outputs": [],
      "source": [
        "%matplotlib inline\n",
        "import numpy as np\n",
        "import matplotlib.pyplot as plt\n",
        "import pandas as pd"
      ]
    },
    {
      "cell_type": "markdown",
      "source": [
        "##array oriented programming"
      ],
      "metadata": {
        "id": "g0qcPFA-guba"
      }
    },
    {
      "cell_type": "code",
      "source": [
        "grades = [56,62,71,45,70]"
      ],
      "metadata": {
        "id": "gvCw1i7jg4gU"
      },
      "execution_count": 2,
      "outputs": []
    },
    {
      "cell_type": "code",
      "source": [
        "new_grades = []\n",
        "for g in grades:\n",
        "  ng = np.sqrt(g)*10\n",
        "  print(f'調整後的成績:{ng:.2f}')\n",
        "  new_grades.append(ng)\n",
        "print(new_grades)"
      ],
      "metadata": {
        "colab": {
          "base_uri": "https://localhost:8080/"
        },
        "id": "LlK7BK4tic12",
        "outputId": "1aba85dd-cfdf-40ef-d5de-443952f1a6b4"
      },
      "execution_count": 3,
      "outputs": [
        {
          "output_type": "stream",
          "name": "stdout",
          "text": [
            "調整後的成績:74.83\n",
            "調整後的成績:78.74\n",
            "調整後的成績:84.26\n",
            "調整後的成績:67.08\n",
            "調整後的成績:83.67\n",
            "[74.83314773547883, 78.74007874011811, 84.2614977317636, 67.0820393249937, 83.66600265340756]\n"
          ]
        }
      ]
    },
    {
      "cell_type": "code",
      "source": [
        "new_grades = []\n",
        "for g in grades:\n",
        "  ng = np.sqrt(g)*10+15\n",
        "  print(f'調整後的成績:{ng:.2f}')\n",
        "  new_grades.append(ng)\n",
        "print(new_grades)"
      ],
      "metadata": {
        "colab": {
          "base_uri": "https://localhost:8080/"
        },
        "id": "fdoFtUsvj8O0",
        "outputId": "998a1a13-f828-47d9-f8f9-36c7a8df6b19"
      },
      "execution_count": 4,
      "outputs": [
        {
          "output_type": "stream",
          "name": "stdout",
          "text": [
            "調整後的成績:89.83\n",
            "調整後的成績:93.74\n",
            "調整後的成績:99.26\n",
            "調整後的成績:82.08\n",
            "調整後的成績:98.67\n",
            "[89.83314773547883, 93.74007874011811, 99.2614977317636, 82.0820393249937, 98.66600265340756]\n"
          ]
        }
      ]
    },
    {
      "cell_type": "markdown",
      "source": [
        "#避免用for迴圈"
      ],
      "metadata": {
        "id": "ygAFdO_2klg-"
      }
    },
    {
      "cell_type": "markdown",
      "source": [
        "##**換成np.array來做**"
      ],
      "metadata": {
        "id": "kGc2I3Fak9CO"
      }
    },
    {
      "cell_type": "code",
      "source": [
        "arr_grades = np.array(grades)"
      ],
      "metadata": {
        "id": "EaBHqllMlHRx"
      },
      "execution_count": 5,
      "outputs": []
    },
    {
      "cell_type": "code",
      "source": [
        "np.sqrt(arr_grades)*10 + 15\n",
        "\n"
      ],
      "metadata": {
        "colab": {
          "base_uri": "https://localhost:8080/"
        },
        "id": "k-l81SJvg-3r",
        "outputId": "83773d6c-23b2-42b5-c602-621e436c5f4b"
      },
      "execution_count": 6,
      "outputs": [
        {
          "output_type": "execute_result",
          "data": {
            "text/plain": [
              "array([89.83314774, 93.74007874, 99.26149773, 82.08203932, 98.66600265])"
            ]
          },
          "metadata": {},
          "execution_count": 6
        }
      ]
    },
    {
      "cell_type": "code",
      "source": [
        "arr_new_grades = np.sqrt(arr_grades)*10 + 15"
      ],
      "metadata": {
        "id": "JAcYBIwalQ8a"
      },
      "execution_count": 7,
      "outputs": []
    },
    {
      "cell_type": "code",
      "source": [
        "arr_new_grades"
      ],
      "metadata": {
        "colab": {
          "base_uri": "https://localhost:8080/"
        },
        "id": "Bl7y_ayul6k0",
        "outputId": "e534c7b6-b13f-4a97-f3a2-7c40cd99d60a"
      },
      "execution_count": 8,
      "outputs": [
        {
          "output_type": "execute_result",
          "data": {
            "text/plain": [
              "array([89.83314774, 93.74007874, 99.26149773, 82.08203932, 98.66600265])"
            ]
          },
          "metadata": {},
          "execution_count": 8
        }
      ]
    },
    {
      "cell_type": "code",
      "source": [
        "arr_new_grades.mean()"
      ],
      "metadata": {
        "colab": {
          "base_uri": "https://localhost:8080/"
        },
        "id": "bze_rB_Wl8QA",
        "outputId": "2338249d-d7ff-49d3-c1da-e63b8c0e788e"
      },
      "execution_count": 9,
      "outputs": [
        {
          "output_type": "execute_result",
          "data": {
            "text/plain": [
              "92.71655323715235"
            ]
          },
          "metadata": {},
          "execution_count": 9
        }
      ]
    },
    {
      "cell_type": "code",
      "source": [
        "arr_new_grades.sum()"
      ],
      "metadata": {
        "colab": {
          "base_uri": "https://localhost:8080/"
        },
        "id": "QZAqxle7mHqz",
        "outputId": "346bfb5e-6ccc-4e91-9895-e0717b917ec5"
      },
      "execution_count": 10,
      "outputs": [
        {
          "output_type": "execute_result",
          "data": {
            "text/plain": [
              "463.5827661857618"
            ]
          },
          "metadata": {},
          "execution_count": 10
        }
      ]
    },
    {
      "cell_type": "markdown",
      "source": [
        "##**內積 dot** "
      ],
      "metadata": {
        "id": "QSAlwOQOnlZy"
      }
    },
    {
      "cell_type": "code",
      "source": [
        "mygrades = np.array([89,99,60])"
      ],
      "metadata": {
        "id": "HSgiaNfXmRU0"
      },
      "execution_count": 11,
      "outputs": []
    },
    {
      "cell_type": "code",
      "source": [
        "weights = np.array([0.3,0.4,0.3])"
      ],
      "metadata": {
        "id": "hokFUiBLmvMJ"
      },
      "execution_count": 12,
      "outputs": []
    },
    {
      "cell_type": "code",
      "source": [
        "mygrades * weights"
      ],
      "metadata": {
        "colab": {
          "base_uri": "https://localhost:8080/"
        },
        "id": "JBsPleVQm5P5",
        "outputId": "b55eaefb-2012-425b-a912-598df81d97a0"
      },
      "execution_count": 13,
      "outputs": [
        {
          "output_type": "execute_result",
          "data": {
            "text/plain": [
              "array([26.7, 39.6, 18. ])"
            ]
          },
          "metadata": {},
          "execution_count": 13
        }
      ]
    },
    {
      "cell_type": "code",
      "source": [
        "g = mygrades * weights"
      ],
      "metadata": {
        "id": "v9GTRaPynHXO"
      },
      "execution_count": 14,
      "outputs": []
    },
    {
      "cell_type": "code",
      "source": [
        "g.sum()"
      ],
      "metadata": {
        "colab": {
          "base_uri": "https://localhost:8080/"
        },
        "id": "ua7OFu4km9yZ",
        "outputId": "5a7dda18-a508-48c1-f5e7-ec4e8dc6ce9e"
      },
      "execution_count": 15,
      "outputs": [
        {
          "output_type": "execute_result",
          "data": {
            "text/plain": [
              "84.3"
            ]
          },
          "metadata": {},
          "execution_count": 15
        }
      ]
    },
    {
      "cell_type": "code",
      "source": [
        "np.dot(mygrades, weights)"
      ],
      "metadata": {
        "colab": {
          "base_uri": "https://localhost:8080/"
        },
        "id": "TMc9CeRum-2G",
        "outputId": "b5a7a06e-b821-4cb9-e0f2-1489216fec4c"
      },
      "execution_count": 16,
      "outputs": [
        {
          "output_type": "execute_result",
          "data": {
            "text/plain": [
              "84.3"
            ]
          },
          "metadata": {},
          "execution_count": 16
        }
      ]
    },
    {
      "cell_type": "code",
      "source": [
        "mygrades @ weights"
      ],
      "metadata": {
        "colab": {
          "base_uri": "https://localhost:8080/"
        },
        "id": "t3KFOrkznWxS",
        "outputId": "a4e628a2-994c-4b31-f360-62c299f779d2"
      },
      "execution_count": 17,
      "outputs": [
        {
          "output_type": "execute_result",
          "data": {
            "text/plain": [
              "84.3"
            ]
          },
          "metadata": {},
          "execution_count": 17
        }
      ]
    },
    {
      "cell_type": "markdown",
      "source": [
        "### 不同shape轉換"
      ],
      "metadata": {
        "id": "XtfHLMX7neQi"
      }
    },
    {
      "cell_type": "markdown",
      "source": [
        "#### 0階 array (0階 tensor)"
      ],
      "metadata": {
        "id": "MbmHWinan3t4"
      }
    },
    {
      "cell_type": "code",
      "source": [
        "egg = 94.87"
      ],
      "metadata": {
        "id": "BdTPFe2LoBzD"
      },
      "execution_count": 18,
      "outputs": []
    },
    {
      "cell_type": "markdown",
      "source": [
        "1階 array (1階 tensor)"
      ],
      "metadata": {
        "id": "KEuIZJ9UoFJp"
      }
    },
    {
      "cell_type": "code",
      "source": [
        "egg = np.array([9,4,8,7])"
      ],
      "metadata": {
        "id": "nWIzbvLJoJqG"
      },
      "execution_count": 19,
      "outputs": []
    },
    {
      "cell_type": "markdown",
      "source": [
        "2階 array (2階 tensor) 矩陣"
      ],
      "metadata": {
        "id": "P5m-Y2QAoOtl"
      }
    },
    {
      "cell_type": "code",
      "source": [
        "a = np.array([[1,2,3],[4,5,6]])"
      ],
      "metadata": {
        "id": "_yVOgRKtoajX"
      },
      "execution_count": 20,
      "outputs": []
    },
    {
      "cell_type": "code",
      "source": [
        "a"
      ],
      "metadata": {
        "colab": {
          "base_uri": "https://localhost:8080/"
        },
        "id": "kiUflSmdpEC1",
        "outputId": "fd3ed350-07c0-4294-9e10-666c0b4cdf30"
      },
      "execution_count": 21,
      "outputs": [
        {
          "output_type": "execute_result",
          "data": {
            "text/plain": [
              "array([[1, 2, 3],\n",
              "       [4, 5, 6]])"
            ]
          },
          "metadata": {},
          "execution_count": 21
        }
      ]
    },
    {
      "cell_type": "code",
      "source": [
        "b = np.array([3,9,6,12,8,20,1,10,7])\n",
        "b = b.reshape(3,3)"
      ],
      "metadata": {
        "id": "a50cCo5MpEet"
      },
      "execution_count": 22,
      "outputs": []
    },
    {
      "cell_type": "code",
      "source": [
        "b"
      ],
      "metadata": {
        "colab": {
          "base_uri": "https://localhost:8080/"
        },
        "id": "0B7vstpapdcZ",
        "outputId": "63d22a5b-4bc3-4c4c-9e3d-aba715cdf586"
      },
      "execution_count": 23,
      "outputs": [
        {
          "output_type": "execute_result",
          "data": {
            "text/plain": [
              "array([[ 3,  9,  6],\n",
              "       [12,  8, 20],\n",
              "       [ 1, 10,  7]])"
            ]
          },
          "metadata": {},
          "execution_count": 23
        }
      ]
    },
    {
      "cell_type": "code",
      "source": [
        "c = a@b"
      ],
      "metadata": {
        "id": "wFbu2e-FpsgI"
      },
      "execution_count": 24,
      "outputs": []
    },
    {
      "cell_type": "code",
      "source": [
        "c"
      ],
      "metadata": {
        "colab": {
          "base_uri": "https://localhost:8080/"
        },
        "id": "vZrwEOqJpuR9",
        "outputId": "58932b59-dcc2-42ac-9899-065776193999"
      },
      "execution_count": 25,
      "outputs": [
        {
          "output_type": "execute_result",
          "data": {
            "text/plain": [
              "array([[ 30,  55,  67],\n",
              "       [ 78, 136, 166]])"
            ]
          },
          "metadata": {},
          "execution_count": 25
        }
      ]
    },
    {
      "cell_type": "code",
      "source": [
        "c.ravel()"
      ],
      "metadata": {
        "colab": {
          "base_uri": "https://localhost:8080/"
        },
        "id": "33YviN6UrXBx",
        "outputId": "6f99fc08-865a-4260-f9ab-d23ed6d9b544"
      },
      "execution_count": 26,
      "outputs": [
        {
          "output_type": "execute_result",
          "data": {
            "text/plain": [
              "array([ 30,  55,  67,  78, 136, 166])"
            ]
          },
          "metadata": {},
          "execution_count": 26
        }
      ]
    },
    {
      "cell_type": "code",
      "source": [
        "x = np.array([3,9,1,3,-5,1,2])"
      ],
      "metadata": {
        "id": "avxR7G7VrZEG"
      },
      "execution_count": 27,
      "outputs": []
    },
    {
      "cell_type": "code",
      "source": [
        "len(x)"
      ],
      "metadata": {
        "colab": {
          "base_uri": "https://localhost:8080/"
        },
        "id": "Ql5fucSIwh_v",
        "outputId": "4addc3e2-26f0-4dd2-eeeb-fe87b74ef151"
      },
      "execution_count": 28,
      "outputs": [
        {
          "output_type": "execute_result",
          "data": {
            "text/plain": [
              "7"
            ]
          },
          "metadata": {},
          "execution_count": 28
        }
      ]
    },
    {
      "cell_type": "code",
      "source": [
        "x.reshape(len(x),1)"
      ],
      "metadata": {
        "colab": {
          "base_uri": "https://localhost:8080/"
        },
        "id": "IaiFCn09wjPr",
        "outputId": "f72fbd99-d461-4195-8940-d5ce5bfffa74"
      },
      "execution_count": 29,
      "outputs": [
        {
          "output_type": "execute_result",
          "data": {
            "text/plain": [
              "array([[ 3],\n",
              "       [ 9],\n",
              "       [ 1],\n",
              "       [ 3],\n",
              "       [-5],\n",
              "       [ 1],\n",
              "       [ 2]])"
            ]
          },
          "metadata": {},
          "execution_count": 29
        }
      ]
    },
    {
      "cell_type": "markdown",
      "source": [
        "##array的filter功能"
      ],
      "metadata": {
        "id": "p6PKCCZywo_H"
      }
    },
    {
      "cell_type": "code",
      "source": [
        "grades =np.array([59,30,25,65,60,100,85,8])"
      ],
      "metadata": {
        "id": "qigbaHHdw6bU"
      },
      "execution_count": 30,
      "outputs": []
    },
    {
      "cell_type": "code",
      "source": [
        "passed = np.array([False,False,False,True,True,True,True,False])"
      ],
      "metadata": {
        "id": "jcMu6GISxFx5"
      },
      "execution_count": 31,
      "outputs": []
    },
    {
      "cell_type": "code",
      "source": [
        "grades[passed]"
      ],
      "metadata": {
        "colab": {
          "base_uri": "https://localhost:8080/"
        },
        "id": "MHziqQXnxhZE",
        "outputId": "b5641a4a-3df0-4036-f389-eff7411f0f34"
      },
      "execution_count": 32,
      "outputs": [
        {
          "output_type": "execute_result",
          "data": {
            "text/plain": [
              "array([ 65,  60, 100,  85])"
            ]
          },
          "metadata": {},
          "execution_count": 32
        }
      ]
    },
    {
      "cell_type": "code",
      "source": [
        "passed = (grades>=60)"
      ],
      "metadata": {
        "id": "UgVfthrxxkvH"
      },
      "execution_count": 33,
      "outputs": []
    },
    {
      "cell_type": "code",
      "source": [
        "passed"
      ],
      "metadata": {
        "colab": {
          "base_uri": "https://localhost:8080/"
        },
        "id": "Uai4cxtvxws0",
        "outputId": "8dcd0783-e8bb-4e85-d798-357515674740"
      },
      "execution_count": 34,
      "outputs": [
        {
          "output_type": "execute_result",
          "data": {
            "text/plain": [
              "array([False, False, False,  True,  True,  True,  True, False])"
            ]
          },
          "metadata": {},
          "execution_count": 34
        }
      ]
    },
    {
      "cell_type": "code",
      "source": [
        "grades[passed]"
      ],
      "metadata": {
        "colab": {
          "base_uri": "https://localhost:8080/"
        },
        "id": "rsrEbuuYx6R1",
        "outputId": "3e74512f-ae54-4867-b5db-9cd6d574e557"
      },
      "execution_count": 35,
      "outputs": [
        {
          "output_type": "execute_result",
          "data": {
            "text/plain": [
              "array([ 65,  60, 100,  85])"
            ]
          },
          "metadata": {},
          "execution_count": 35
        }
      ]
    },
    {
      "cell_type": "code",
      "source": [
        "grades[grades>=60]"
      ],
      "metadata": {
        "colab": {
          "base_uri": "https://localhost:8080/"
        },
        "id": "11S5Y3YLx8T5",
        "outputId": "29a0b50c-5b76-4524-c9b0-6a64292b6537"
      },
      "execution_count": 36,
      "outputs": [
        {
          "output_type": "execute_result",
          "data": {
            "text/plain": [
              "array([ 65,  60, 100,  85])"
            ]
          },
          "metadata": {},
          "execution_count": 36
        }
      ]
    },
    {
      "cell_type": "code",
      "source": [
        "grades[(grades>=60)&(grades<80)]"
      ],
      "metadata": {
        "colab": {
          "base_uri": "https://localhost:8080/"
        },
        "id": "xo66FI_TyAUl",
        "outputId": "bec5d30a-6766-44f7-81e5-1cdd3ecce823"
      },
      "execution_count": 37,
      "outputs": [
        {
          "output_type": "execute_result",
          "data": {
            "text/plain": [
              "array([65, 60])"
            ]
          },
          "metadata": {},
          "execution_count": 37
        }
      ]
    },
    {
      "cell_type": "markdown",
      "source": [
        "##畫圖"
      ],
      "metadata": {
        "id": "NNiM22wUyZoQ"
      }
    },
    {
      "cell_type": "code",
      "source": [
        "π = np.pi"
      ],
      "metadata": {
        "id": "aKAP_xjMydsE"
      },
      "execution_count": 38,
      "outputs": []
    },
    {
      "cell_type": "code",
      "source": [
        "x = np.linspace(-2*π,2*π,1000)"
      ],
      "metadata": {
        "id": "kXp8lP6Iyomw"
      },
      "execution_count": 39,
      "outputs": []
    },
    {
      "cell_type": "code",
      "source": [
        "y = np.sin(x)"
      ],
      "metadata": {
        "id": "_z-DKpegyy2k"
      },
      "execution_count": 40,
      "outputs": []
    },
    {
      "cell_type": "code",
      "source": [
        "ax = plt.gca()\n",
        "ax.set_aspect('equal')\n",
        "plt.plot(x,y)"
      ],
      "metadata": {
        "colab": {
          "base_uri": "https://localhost:8080/",
          "height": 159
        },
        "id": "JFxrcRAgy6wm",
        "outputId": "94382c8a-36d5-4f6c-e7d7-cecc42a0b6b1"
      },
      "execution_count": 41,
      "outputs": [
        {
          "output_type": "execute_result",
          "data": {
            "text/plain": [
              "[<matplotlib.lines.Line2D at 0x7f94dbb7c550>]"
            ]
          },
          "metadata": {},
          "execution_count": 41
        },
        {
          "output_type": "display_data",
          "data": {
            "text/plain": [
              "<Figure size 640x480 with 1 Axes>"
            ],
            "image/png": "[encoded data removed]"
          },
          "metadata": {}
        }
      ]
    },
    {
      "cell_type": "code",
      "source": [
        "y[y>0]\n",
        "plt.scatter(x[y>0],y[y>0],c='#FF235A')\n",
        "plt.plot(x,y)"
      ],
      "metadata": {
        "colab": {
          "base_uri": "https://localhost:8080/",
          "height": 448
        },
        "id": "CD2GqJDgy8rr",
        "outputId": "34fa7595-8a4a-418d-904f-32bc7f40db89"
      },
      "execution_count": 42,
      "outputs": [
        {
          "output_type": "execute_result",
          "data": {
            "text/plain": [
              "[<matplotlib.lines.Line2D at 0x7f94dba7d900>]"
            ]
          },
          "metadata": {},
          "execution_count": 42
        },
        {
          "output_type": "display_data",
          "data": {
            "text/plain": [
              "<Figure size 640x480 with 1 Axes>"
            ],
            "image/png": "[encoded data removed]"
          },
          "metadata": {}
        }
      ]
    },
    {
      "cell_type": "markdown",
      "source": [
        "##模擬數據集"
      ],
      "metadata": {
        "id": "-EOCoXE4zWlt"
      }
    },
    {
      "cell_type": "code",
      "source": [
        "x = np.linspace(0,1.3,50)\n",
        "y = np.sin(x)\n",
        "plt.scatter(x,y)"
      ],
      "metadata": {
        "colab": {
          "base_uri": "https://localhost:8080/",
          "height": 449
        },
        "id": "DpMCC4Vl0Gen",
        "outputId": "74d327de-e003-4c19-d47e-857b4ac1c48d"
      },
      "execution_count": 43,
      "outputs": [
        {
          "output_type": "execute_result",
          "data": {
            "text/plain": [
              "<matplotlib.collections.PathCollection at 0x7f94d991d6f0>"
            ]
          },
          "metadata": {},
          "execution_count": 43
        },
        {
          "output_type": "display_data",
          "data": {
            "text/plain": [
              "<Figure size 640x480 with 1 Axes>"
            ],
            "image/png": "[encoded data removed]"
          },
          "metadata": {}
        }
      ]
    },
    {
      "cell_type": "code",
      "source": [
        "noise = 0.1*np.random.randn(50)"
      ],
      "metadata": {
        "id": "WgUR4Upc0SWl"
      },
      "execution_count": 44,
      "outputs": []
    },
    {
      "cell_type": "code",
      "source": [
        "plt.scatter(x,y+noise,c = 'r')\n",
        "plt.scatter(x,y)"
      ],
      "metadata": {
        "colab": {
          "base_uri": "https://localhost:8080/",
          "height": 448
        },
        "id": "kjpEtk8x0fcs",
        "outputId": "f6e4cd03-d8c3-4d3d-fd46-eceb4445f003"
      },
      "execution_count": 45,
      "outputs": [
        {
          "output_type": "execute_result",
          "data": {
            "text/plain": [
              "<matplotlib.collections.PathCollection at 0x7f94d978f310>"
            ]
          },
          "metadata": {},
          "execution_count": 45
        },
        {
          "output_type": "display_data",
          "data": {
            "text/plain": [
              "<Figure size 640x480 with 1 Axes>"
            ],
            "image/png": "[encoded data removed]"
          },
          "metadata": {}
        }
      ]
    },
    {
      "cell_type": "markdown",
      "source": [
        "##分類模擬"
      ],
      "metadata": {
        "id": "MGIZAdnN0k_D"
      }
    },
    {
      "cell_type": "code",
      "source": [
        "p = np.random.randn(50,2)"
      ],
      "metadata": {
        "id": "2qXgMioW01Hf"
      },
      "execution_count": 46,
      "outputs": []
    },
    {
      "cell_type": "code",
      "source": [
        "p"
      ],
      "metadata": {
        "colab": {
          "base_uri": "https://localhost:8080/"
        },
        "id": "llHeX-Qu1Vh9",
        "outputId": "1062ce43-8ef9-4b0e-de23-3703f6eb367b"
      },
      "execution_count": 47,
      "outputs": [
        {
          "output_type": "execute_result",
          "data": {
            "text/plain": [
              "array([[ 1.38008526,  1.44647206],\n",
              "       [-2.31719641, -0.1677612 ],\n",
              "       [-0.94241824, -0.41637152],\n",
              "       [-0.11155706, -1.17151627],\n",
              "       [ 0.84023034, -1.01361359],\n",
              "       [-1.33947022, -0.29103901],\n",
              "       [-0.41139442, -0.8172868 ],\n",
              "       [-2.25659526,  1.11807877],\n",
              "       [ 0.14372153, -0.68099799],\n",
              "       [ 1.83516822, -1.52499869],\n",
              "       [ 0.36656662, -0.52386924],\n",
              "       [-2.87310419,  1.48895683],\n",
              "       [-0.93244146,  0.94252211],\n",
              "       [ 1.80262572,  0.87242774],\n",
              "       [-0.62018643, -0.83192935],\n",
              "       [-0.99572787,  1.09373394],\n",
              "       [ 1.35902205,  0.80135085],\n",
              "       [-0.97403575, -0.2721637 ],\n",
              "       [ 0.93168608, -0.09408073],\n",
              "       [-0.46020488,  0.08197392],\n",
              "       [ 0.29637418,  0.26162139],\n",
              "       [-1.38750479,  1.0723598 ],\n",
              "       [ 0.2966305 , -0.1490124 ],\n",
              "       [-0.63378153, -0.02943369],\n",
              "       [-1.4513906 ,  0.15941293],\n",
              "       [ 2.11589491, -0.59759479],\n",
              "       [-0.21249592, -1.41544476],\n",
              "       [ 1.28300409, -2.28603298],\n",
              "       [ 0.19494482, -0.41253198],\n",
              "       [-1.29512711,  1.51931072],\n",
              "       [-0.08943055,  1.25191313],\n",
              "       [ 1.37563474, -1.56155523],\n",
              "       [-0.8705903 ,  0.05802627],\n",
              "       [ 0.13092071, -0.80253314],\n",
              "       [-0.39781138, -0.344992  ],\n",
              "       [ 0.9224409 , -0.22302436],\n",
              "       [ 0.1644125 , -0.88207657],\n",
              "       [-1.44730625, -0.8006283 ],\n",
              "       [ 0.35254815,  0.0216852 ],\n",
              "       [-0.1341005 ,  0.68751004],\n",
              "       [ 0.86600158,  0.63010582],\n",
              "       [-0.01886539,  0.38992278],\n",
              "       [-0.17300326, -0.48878782],\n",
              "       [ 0.34515563, -0.3988347 ],\n",
              "       [ 0.69329903, -0.68216202],\n",
              "       [ 1.44474707,  1.65387958],\n",
              "       [-1.17741307,  0.88947342],\n",
              "       [-1.2068684 ,  1.16618481],\n",
              "       [ 0.96518099,  0.51164831],\n",
              "       [ 1.07943195, -0.12107649]])"
            ]
          },
          "metadata": {},
          "execution_count": 47
        }
      ]
    },
    {
      "cell_type": "code",
      "source": [
        "plt.scatter(p[:,0],p[:,1])"
      ],
      "metadata": {
        "colab": {
          "base_uri": "https://localhost:8080/",
          "height": 448
        },
        "id": "Xnq-eJCm1CZF",
        "outputId": "c247425b-7d53-45c8-893e-2d821f5b2d96"
      },
      "execution_count": 48,
      "outputs": [
        {
          "output_type": "execute_result",
          "data": {
            "text/plain": [
              "<matplotlib.collections.PathCollection at 0x7f94d9819630>"
            ]
          },
          "metadata": {},
          "execution_count": 48
        },
        {
          "output_type": "display_data",
          "data": {
            "text/plain": [
              "<Figure size 640x480 with 1 Axes>"
            ],
            "image/png": "[encoded data removed]"
          },
          "metadata": {}
        }
      ]
    },
    {
      "cell_type": "code",
      "source": [
        "cl = np.random.randint(1,5,50)"
      ],
      "metadata": {
        "id": "w3Pr8EI_1KoX"
      },
      "execution_count": 49,
      "outputs": []
    },
    {
      "cell_type": "code",
      "source": [
        "plt.scatter(p[:,0],p[:,1],c = cl,s = 50,cmap = 'Set2')"
      ],
      "metadata": {
        "colab": {
          "base_uri": "https://localhost:8080/",
          "height": 448
        },
        "id": "JV6ZSqra101l",
        "outputId": "37edefd1-6e2c-40d4-e416-6f85c37b03c7"
      },
      "execution_count": 50,
      "outputs": [
        {
          "output_type": "execute_result",
          "data": {
            "text/plain": [
              "<matplotlib.collections.PathCollection at 0x7f94d98db880>"
            ]
          },
          "metadata": {},
          "execution_count": 50
        },
        {
          "output_type": "display_data",
          "data": {
            "text/plain": [
              "<Figure size 640x480 with 1 Axes>"
            ],
            "image/png": "[encoded data removed]"
          },
          "metadata": {}
        }
      ]
    },
    {
      "cell_type": "markdown",
      "source": [
        "##SymPy"
      ],
      "metadata": {
        "id": "EnV2t7B_11hG"
      }
    },
    {
      "cell_type": "code",
      "source": [
        "1/2 + 1/3"
      ],
      "metadata": {
        "colab": {
          "base_uri": "https://localhost:8080/"
        },
        "id": "cJYfY_u_3QrT",
        "outputId": "d89fb310-1181-44f4-9239-5a378e959155"
      },
      "execution_count": 51,
      "outputs": [
        {
          "output_type": "execute_result",
          "data": {
            "text/plain": [
              "0.8333333333333333"
            ]
          },
          "metadata": {},
          "execution_count": 51
        }
      ]
    },
    {
      "cell_type": "code",
      "source": [
        "import sympy as sp"
      ],
      "metadata": {
        "id": "TVHW1hIZ3SzJ"
      },
      "execution_count": 52,
      "outputs": []
    },
    {
      "cell_type": "code",
      "source": [
        "sp.Rational(1,2) + sp.Rational(1,3)"
      ],
      "metadata": {
        "colab": {
          "base_uri": "https://localhost:8080/",
          "height": 51
        },
        "id": "Viq62fk73XM5",
        "outputId": "0af413a4-035f-4249-8624-c5ff8e06c701"
      },
      "execution_count": 53,
      "outputs": [
        {
          "output_type": "execute_result",
          "data": {
            "text/plain": [
              "5/6"
            ],
            "text/latex": "$\\displaystyle \\frac{5}{6}$"
          },
          "metadata": {},
          "execution_count": 53
        }
      ]
    },
    {
      "cell_type": "code",
      "source": [
        "sp.sympify(1)/2 + sp.sympify(1)/3"
      ],
      "metadata": {
        "colab": {
          "base_uri": "https://localhost:8080/",
          "height": 51
        },
        "id": "2xNtJau-3sKa",
        "outputId": "a53924e9-cb2b-44db-b779-7164343aad9e"
      },
      "execution_count": 54,
      "outputs": [
        {
          "output_type": "execute_result",
          "data": {
            "text/plain": [
              "5/6"
            ],
            "text/latex": "$\\displaystyle \\frac{5}{6}$"
          },
          "metadata": {},
          "execution_count": 54
        }
      ]
    },
    {
      "cell_type": "code",
      "source": [
        "sp.S(1)/2 + sp.S(1)/3"
      ],
      "metadata": {
        "colab": {
          "base_uri": "https://localhost:8080/",
          "height": 51
        },
        "id": "Gs9X1wlX4CiE",
        "outputId": "6757393d-d36e-4880-e5f4-a4f25ee97912"
      },
      "execution_count": 55,
      "outputs": [
        {
          "output_type": "execute_result",
          "data": {
            "text/plain": [
              "5/6"
            ],
            "text/latex": "$\\displaystyle \\frac{5}{6}$"
          },
          "metadata": {},
          "execution_count": 55
        }
      ]
    },
    {
      "cell_type": "code",
      "source": [
        "sp.sqrt(3)"
      ],
      "metadata": {
        "colab": {
          "base_uri": "https://localhost:8080/",
          "height": 38
        },
        "id": "yqnmg4tF4Jp8",
        "outputId": "a92fe04c-58b6-40f9-92af-3eaa8e462e31"
      },
      "execution_count": 56,
      "outputs": [
        {
          "output_type": "execute_result",
          "data": {
            "text/plain": [
              "sqrt(3)"
            ],
            "text/latex": "$\\displaystyle \\sqrt{3}$"
          },
          "metadata": {},
          "execution_count": 56
        }
      ]
    },
    {
      "cell_type": "code",
      "source": [
        "sp.pi"
      ],
      "metadata": {
        "colab": {
          "base_uri": "https://localhost:8080/",
          "height": 39
        },
        "id": "ucRZIkwi4VPm",
        "outputId": "e0216ea6-b3a2-4ee4-c964-5f13287404ed"
      },
      "execution_count": 57,
      "outputs": [
        {
          "output_type": "execute_result",
          "data": {
            "text/plain": [
              "pi"
            ],
            "text/latex": "$\\displaystyle \\pi$"
          },
          "metadata": {},
          "execution_count": 57
        }
      ]
    },
    {
      "cell_type": "markdown",
      "source": [
        " ## 指定變數"
      ],
      "metadata": {
        "id": "TTkuxsMh4Ws7"
      }
    },
    {
      "cell_type": "code",
      "source": [
        "x = sp.symbols('x')"
      ],
      "metadata": {
        "id": "cqNPUzHGgLuT"
      },
      "execution_count": 58,
      "outputs": []
    },
    {
      "cell_type": "code",
      "source": [
        "x"
      ],
      "metadata": {
        "colab": {
          "base_uri": "https://localhost:8080/",
          "height": 39
        },
        "id": "k-FJnfmNgVOr",
        "outputId": "1b92eb87-4fa9-4e1c-ddfc-2cf2784a452f"
      },
      "execution_count": 59,
      "outputs": [
        {
          "output_type": "execute_result",
          "data": {
            "text/plain": [
              "x"
            ],
            "text/latex": "$\\displaystyle x$"
          },
          "metadata": {},
          "execution_count": 59
        }
      ]
    },
    {
      "cell_type": "code",
      "source": [
        "x**2"
      ],
      "metadata": {
        "colab": {
          "base_uri": "https://localhost:8080/",
          "height": 39
        },
        "id": "Yq3sWpJogVui",
        "outputId": "38e9f884-3051-4b3d-f8da-ba37e69ea176"
      },
      "execution_count": 60,
      "outputs": [
        {
          "output_type": "execute_result",
          "data": {
            "text/plain": [
              "x**2"
            ],
            "text/latex": "$\\displaystyle x^{2}$"
          },
          "metadata": {},
          "execution_count": 60
        }
      ]
    },
    {
      "cell_type": "code",
      "source": [
        "x = sp.symbols(r'\\xi') #也可以不用x"
      ],
      "metadata": {
        "id": "xpAbW_mlgWoi"
      },
      "execution_count": 63,
      "outputs": []
    },
    {
      "cell_type": "code",
      "source": [
        "x"
      ],
      "metadata": {
        "colab": {
          "base_uri": "https://localhost:8080/",
          "height": 39
        },
        "id": "Z0FHg7gKgbDx",
        "outputId": "21b5de5a-9f32-47da-ae4e-376fb110e44d"
      },
      "execution_count": 64,
      "outputs": [
        {
          "output_type": "execute_result",
          "data": {
            "text/plain": [
              "\\xi"
            ],
            "text/latex": "$\\displaystyle \\xi$"
          },
          "metadata": {},
          "execution_count": 64
        }
      ]
    },
    {
      "cell_type": "code",
      "source": [
        "from sympy.abc import x"
      ],
      "metadata": {
        "id": "eIth1XrpgbmX"
      },
      "execution_count": 65,
      "outputs": []
    },
    {
      "cell_type": "code",
      "source": [
        "x"
      ],
      "metadata": {
        "colab": {
          "base_uri": "https://localhost:8080/",
          "height": 39
        },
        "id": "HK9A8WXcgn_j",
        "outputId": "e0695fd1-c8e3-4edd-af8c-5a648c979ada"
      },
      "execution_count": 66,
      "outputs": [
        {
          "output_type": "execute_result",
          "data": {
            "text/plain": [
              "x"
            ],
            "text/latex": "$\\displaystyle x$"
          },
          "metadata": {},
          "execution_count": 66
        }
      ]
    },
    {
      "cell_type": "code",
      "source": [
        "f = x**2-3*x+5"
      ],
      "metadata": {
        "id": "vgwCicQIgoX-"
      },
      "execution_count": 67,
      "outputs": []
    },
    {
      "cell_type": "code",
      "source": [
        "f"
      ],
      "metadata": {
        "colab": {
          "base_uri": "https://localhost:8080/",
          "height": 39
        },
        "id": "hcT3-Uecguo1",
        "outputId": "20543265-5a82-4de4-bb57-78539543ff34"
      },
      "execution_count": 68,
      "outputs": [
        {
          "output_type": "execute_result",
          "data": {
            "text/plain": [
              "x**2 - 3*x + 5"
            ],
            "text/latex": "$\\displaystyle x^{2} - 3 x + 5$"
          },
          "metadata": {},
          "execution_count": 68
        }
      ]
    },
    {
      "cell_type": "code",
      "source": [
        "sp.diff(f) #微分"
      ],
      "metadata": {
        "colab": {
          "base_uri": "https://localhost:8080/",
          "height": 39
        },
        "id": "ezuw2poOgvRk",
        "outputId": "ed1c5954-59c2-4cd9-c29d-583e8f7e0b6e"
      },
      "execution_count": 70,
      "outputs": [
        {
          "output_type": "execute_result",
          "data": {
            "text/plain": [
              "2*x - 3"
            ],
            "text/latex": "$\\displaystyle 2 x - 3$"
          },
          "metadata": {},
          "execution_count": 70
        }
      ]
    },
    {
      "cell_type": "code",
      "source": [
        "sp.integrate(f) #積分"
      ],
      "metadata": {
        "colab": {
          "base_uri": "https://localhost:8080/",
          "height": 54
        },
        "id": "nGiRQNPdg0aN",
        "outputId": "501405e3-2c29-4d66-b497-50b2d64b36ba"
      },
      "execution_count": 72,
      "outputs": [
        {
          "output_type": "execute_result",
          "data": {
            "text/plain": [
              "x**3/3 - 3*x**2/2 + 5*x"
            ],
            "text/latex": "$\\displaystyle \\frac{x^{3}}{3} - \\frac{3 x^{2}}{2} + 5 x$"
          },
          "metadata": {},
          "execution_count": 72
        }
      ]
    },
    {
      "cell_type": "code",
      "source": [
        "f.subs(x,2)"
      ],
      "metadata": {
        "colab": {
          "base_uri": "https://localhost:8080/",
          "height": 37
        },
        "id": "dNqTh-lYg6j5",
        "outputId": "2b7e41d5-c2ae-44e4-8106-6545b177f689"
      },
      "execution_count": 73,
      "outputs": [
        {
          "output_type": "execute_result",
          "data": {
            "text/plain": [
              "3"
            ],
            "text/latex": "$\\displaystyle 3$"
          },
          "metadata": {},
          "execution_count": 73
        }
      ]
    },
    {
      "cell_type": "code",
      "source": [
        "from sympy.abc import x, y"
      ],
      "metadata": {
        "id": "03ThH2aShFpj"
      },
      "execution_count": 74,
      "outputs": []
    },
    {
      "cell_type": "code",
      "source": [
        "g = 3*x*y+2*x-5*y**2"
      ],
      "metadata": {
        "id": "Wwi6qLM0hQAt"
      },
      "execution_count": 76,
      "outputs": []
    },
    {
      "cell_type": "code",
      "source": [
        "g"
      ],
      "metadata": {
        "colab": {
          "base_uri": "https://localhost:8080/",
          "height": 39
        },
        "id": "Y9FeeoV8hV46",
        "outputId": "f20cf5c3-e5bc-4ccf-c538-d8e165722292"
      },
      "execution_count": 77,
      "outputs": [
        {
          "output_type": "execute_result",
          "data": {
            "text/plain": [
              "3*x*y + 2*x - 5*y**2"
            ],
            "text/latex": "$\\displaystyle 3 x y + 2 x - 5 y^{2}$"
          },
          "metadata": {},
          "execution_count": 77
        }
      ]
    },
    {
      "cell_type": "code",
      "source": [
        "sp.diff(g,x) #對x偏微分"
      ],
      "metadata": {
        "colab": {
          "base_uri": "https://localhost:8080/",
          "height": 39
        },
        "id": "23mvkm-_haEL",
        "outputId": "f69c8d2c-903b-4108-ae08-bd46629fa7a4"
      },
      "execution_count": 79,
      "outputs": [
        {
          "output_type": "execute_result",
          "data": {
            "text/plain": [
              "3*y + 2"
            ],
            "text/latex": "$\\displaystyle 3 y + 2$"
          },
          "metadata": {},
          "execution_count": 79
        }
      ]
    },
    {
      "cell_type": "code",
      "source": [
        "sp.integrate(g,x)"
      ],
      "metadata": {
        "colab": {
          "base_uri": "https://localhost:8080/",
          "height": 58
        },
        "id": "U5Mjf9sfheUj",
        "outputId": "352ac2ff-49ce-46d2-e483-7137c627c478"
      },
      "execution_count": 80,
      "outputs": [
        {
          "output_type": "execute_result",
          "data": {
            "text/plain": [
              "x**2*(3*y/2 + 1) - 5*x*y**2"
            ],
            "text/latex": "$\\displaystyle x^{2} \\cdot \\left(\\frac{3 y}{2} + 1\\right) - 5 x y^{2}$"
          },
          "metadata": {},
          "execution_count": 80
        }
      ]
    },
    {
      "cell_type": "markdown",
      "source": [
        "*  微分"
      ],
      "metadata": {
        "id": "O_aMyizDh7jv"
      }
    },
    {
      "cell_type": "code",
      "source": [
        "sp.diff(sp.log(x),x)"
      ],
      "metadata": {
        "colab": {
          "base_uri": "https://localhost:8080/",
          "height": 51
        },
        "id": "m884kCiQhnlU",
        "outputId": "550d5e6e-2c23-460b-d3db-735966427d60"
      },
      "execution_count": 81,
      "outputs": [
        {
          "output_type": "execute_result",
          "data": {
            "text/plain": [
              "1/x"
            ],
            "text/latex": "$\\displaystyle \\frac{1}{x}$"
          },
          "metadata": {},
          "execution_count": 81
        }
      ]
    },
    {
      "cell_type": "code",
      "source": [
        "sp.diff(sp.sin(x))"
      ],
      "metadata": {
        "colab": {
          "base_uri": "https://localhost:8080/",
          "height": 39
        },
        "id": "hrnvk76shx02",
        "outputId": "c5945d9e-3ab2-4b9a-a91e-fa7ac1fa65b7"
      },
      "execution_count": 82,
      "outputs": [
        {
          "output_type": "execute_result",
          "data": {
            "text/plain": [
              "cos(x)"
            ],
            "text/latex": "$\\displaystyle \\cos{\\left(x \\right)}$"
          },
          "metadata": {},
          "execution_count": 82
        }
      ]
    },
    {
      "cell_type": "code",
      "source": [
        "sp.diff(sp.cos(x))"
      ],
      "metadata": {
        "colab": {
          "base_uri": "https://localhost:8080/",
          "height": 39
        },
        "id": "rydaGoezh3xe",
        "outputId": "dec88956-851d-4711-8dab-0880e1fa13d1"
      },
      "execution_count": 83,
      "outputs": [
        {
          "output_type": "execute_result",
          "data": {
            "text/plain": [
              "-sin(x)"
            ],
            "text/latex": "$\\displaystyle - \\sin{\\left(x \\right)}$"
          },
          "metadata": {},
          "execution_count": 83
        }
      ]
    },
    {
      "cell_type": "markdown",
      "source": [
        "*  積分"
      ],
      "metadata": {
        "id": "PmWtX1hzh-iW"
      }
    },
    {
      "cell_type": "code",
      "source": [
        "sp.integrate(sp.log(x),x)"
      ],
      "metadata": {
        "colab": {
          "base_uri": "https://localhost:8080/",
          "height": 39
        },
        "id": "SUtgDVBnh5vT",
        "outputId": "ff31bf39-5725-44d4-e64f-e6427d085266"
      },
      "execution_count": 84,
      "outputs": [
        {
          "output_type": "execute_result",
          "data": {
            "text/plain": [
              "x*log(x) - x"
            ],
            "text/latex": "$\\displaystyle x \\log{\\left(x \\right)} - x$"
          },
          "metadata": {},
          "execution_count": 84
        }
      ]
    },
    {
      "cell_type": "code",
      "source": [
        "sp.integrate(sp.log(x),(x,1,5))"
      ],
      "metadata": {
        "colab": {
          "base_uri": "https://localhost:8080/",
          "height": 37
        },
        "id": "WDZRaCA8iEl1",
        "outputId": "d8dd06b1-94b6-4864-9576-88f66be16c47"
      },
      "execution_count": 85,
      "outputs": [
        {
          "output_type": "execute_result",
          "data": {
            "text/plain": [
              "-4 + 5*log(5)"
            ],
            "text/latex": "$\\displaystyle -4 + 5 \\log{\\left(5 \\right)}$"
          },
          "metadata": {},
          "execution_count": 85
        }
      ]
    },
    {
      "cell_type": "code",
      "source": [
        "sp.integrate(x*sp.cos(x**2+1),(x,0,2))"
      ],
      "metadata": {
        "colab": {
          "base_uri": "https://localhost:8080/",
          "height": 53
        },
        "id": "Kn6ae-CujGek",
        "outputId": "769164fa-58a5-4cd1-8066-e313601500db"
      },
      "execution_count": 89,
      "outputs": [
        {
          "output_type": "execute_result",
          "data": {
            "text/plain": [
              "sin(5)/2 - sin(1)/2"
            ],
            "text/latex": "$\\displaystyle \\frac{\\sin{\\left(5 \\right)}}{2} - \\frac{\\sin{\\left(1 \\right)}}{2}$"
          },
          "metadata": {},
          "execution_count": 89
        }
      ]
    },
    {
      "cell_type": "markdown",
      "source": [
        "*  極限"
      ],
      "metadata": {
        "id": "izLnRmwfiMHO"
      }
    },
    {
      "cell_type": "code",
      "source": [
        "sp.limit(sp.sin(x)/x,x,0)"
      ],
      "metadata": {
        "colab": {
          "base_uri": "https://localhost:8080/",
          "height": 37
        },
        "id": "2dsGEgjWiSEW",
        "outputId": "d76a2857-f6a4-4edd-aee7-cfdb62f65307"
      },
      "execution_count": 87,
      "outputs": [
        {
          "output_type": "execute_result",
          "data": {
            "text/plain": [
              "1"
            ],
            "text/latex": "$\\displaystyle 1$"
          },
          "metadata": {},
          "execution_count": 87
        }
      ]
    },
    {
      "cell_type": "code",
      "source": [
        "sp.limit(sp.cos(x)/x,x,0)"
      ],
      "metadata": {
        "colab": {
          "base_uri": "https://localhost:8080/",
          "height": 37
        },
        "id": "Dd_bxkyYiXw0",
        "outputId": "633ffdaf-c38e-4959-eed2-c25bc3463b5e"
      },
      "execution_count": 88,
      "outputs": [
        {
          "output_type": "execute_result",
          "data": {
            "text/plain": [
              "oo"
            ],
            "text/latex": "$\\displaystyle \\infty$"
          },
          "metadata": {},
          "execution_count": 88
        }
      ]
    },
    {
      "cell_type": "markdown",
      "source": [
        "*  矩陣\n",
        "\n"
      ],
      "metadata": {
        "id": "RlPB1iu0igkJ"
      }
    },
    {
      "cell_type": "code",
      "source": [
        "c = sp.Matrix([[1,2,3],[4,5,7],[7,8,9]])"
      ],
      "metadata": {
        "id": "R7y2Jrz7jiO1"
      },
      "execution_count": 98,
      "outputs": []
    },
    {
      "cell_type": "code",
      "source": [
        "c"
      ],
      "metadata": {
        "colab": {
          "base_uri": "https://localhost:8080/",
          "height": 79
        },
        "id": "XXLHt4ncj6yX",
        "outputId": "b1014e16-9e07-49b4-c8f8-f96cfed50c55"
      },
      "execution_count": 99,
      "outputs": [
        {
          "output_type": "execute_result",
          "data": {
            "text/plain": [
              "Matrix([\n",
              "[1, 2, 3],\n",
              "[4, 5, 7],\n",
              "[7, 8, 9]])"
            ],
            "text/latex": "$\\displaystyle \\left[\\begin{matrix}1 & 2 & 3\\\\4 & 5 & 7\\\\7 & 8 & 9\\end{matrix}\\right]$"
          },
          "metadata": {},
          "execution_count": 99
        }
      ]
    },
    {
      "cell_type": "code",
      "source": [
        "c.rref()"
      ],
      "metadata": {
        "colab": {
          "base_uri": "https://localhost:8080/"
        },
        "id": "zRjTSAnSj7QK",
        "outputId": "b4e0ab63-3672-4100-bed2-ca0af1f6f8fd"
      },
      "execution_count": 100,
      "outputs": [
        {
          "output_type": "execute_result",
          "data": {
            "text/plain": [
              "(Matrix([\n",
              " [1, 0, 0],\n",
              " [0, 1, 0],\n",
              " [0, 0, 1]]),\n",
              " (0, 1, 2))"
            ]
          },
          "metadata": {},
          "execution_count": 100
        }
      ]
    },
    {
      "cell_type": "code",
      "source": [
        "c.det()"
      ],
      "metadata": {
        "colab": {
          "base_uri": "https://localhost:8080/",
          "height": 37
        },
        "id": "4SNvW-tukGzU",
        "outputId": "e825a900-b1b8-4f45-aa41-1522fe411562"
      },
      "execution_count": 101,
      "outputs": [
        {
          "output_type": "execute_result",
          "data": {
            "text/plain": [
              "6"
            ],
            "text/latex": "$\\displaystyle 6$"
          },
          "metadata": {},
          "execution_count": 101
        }
      ]
    },
    {
      "cell_type": "code",
      "source": [
        "c.inv()"
      ],
      "metadata": {
        "colab": {
          "base_uri": "https://localhost:8080/",
          "height": 79
        },
        "id": "wRxhnCtwkQVM",
        "outputId": "7826839b-832f-46ba-fcfc-2de72037b2b5"
      },
      "execution_count": 102,
      "outputs": [
        {
          "output_type": "execute_result",
          "data": {
            "text/plain": [
              "Matrix([\n",
              "[-11/6,  1, -1/6],\n",
              "[ 13/6, -2,  5/6],\n",
              "[ -1/2,  1, -1/2]])"
            ],
            "text/latex": "$\\displaystyle \\left[\\begin{matrix}- \\frac{11}{6} & 1 & - \\frac{1}{6}\\\\\\frac{13}{6} & -2 & \\frac{5}{6}\\\\- \\frac{1}{2} & 1 & - \\frac{1}{2}\\end{matrix}\\right]$"
          },
          "metadata": {},
          "execution_count": 102
        }
      ]
    },
    {
      "cell_type": "code",
      "source": [
        "sp.plot(f)"
      ],
      "metadata": {
        "colab": {
          "base_uri": "https://localhost:8080/",
          "height": 503
        },
        "id": "MDiGNfMQkTQ8",
        "outputId": "cc78b5a5-0bec-4c93-aea7-9d42a78cee4b"
      },
      "execution_count": 104,
      "outputs": [
        {
          "output_type": "display_data",
          "data": {
            "text/plain": [
              "<Figure size 640x480 with 1 Axes>"
            ],
            "image/png": "[encoded data removed]"
          },
          "metadata": {}
        },
        {
          "output_type": "execute_result",
          "data": {
            "text/plain": [
              "<sympy.plotting.plot.Plot at 0x7f94d732ac50>"
            ]
          },
          "metadata": {},
          "execution_count": 104
        }
      ]
    },
    {
      "cell_type": "code",
      "source": [
        "g = -x**2"
      ],
      "metadata": {
        "id": "vqStlb14kna5"
      },
      "execution_count": 105,
      "outputs": []
    },
    {
      "cell_type": "code",
      "source": [
        "sp.plot(f,g)"
      ],
      "metadata": {
        "colab": {
          "base_uri": "https://localhost:8080/",
          "height": 505
        },
        "id": "yJja-bulkxCO",
        "outputId": "87647c64-447d-4c3e-adbd-67080708d834"
      },
      "execution_count": 107,
      "outputs": [
        {
          "output_type": "display_data",
          "data": {
            "text/plain": [
              "<Figure size 640x480 with 1 Axes>"
            ],
            "image/png": "[encoded data removed]"
          },
          "metadata": {}
        },
        {
          "output_type": "execute_result",
          "data": {
            "text/plain": [
              "<sympy.plotting.plot.Plot at 0x7f94d7231db0>"
            ]
          },
          "metadata": {},
          "execution_count": 107
        }
      ]
    },
    {
      "cell_type": "markdown",
      "source": [
        "*  質數"
      ],
      "metadata": {
        "id": "fzKANJBYlXvF"
      }
    },
    {
      "cell_type": "code",
      "source": [
        "sp.isprime(7)"
      ],
      "metadata": {
        "colab": {
          "base_uri": "https://localhost:8080/"
        },
        "id": "P0HGHEnzkzZh",
        "outputId": "9c795087-8b3e-428b-c7ec-b81e10ff4f80"
      },
      "execution_count": 108,
      "outputs": [
        {
          "output_type": "execute_result",
          "data": {
            "text/plain": [
              "True"
            ]
          },
          "metadata": {},
          "execution_count": 108
        }
      ]
    },
    {
      "cell_type": "code",
      "source": [
        "sp.isprime(9487)"
      ],
      "metadata": {
        "colab": {
          "base_uri": "https://localhost:8080/"
        },
        "id": "Iu4Sks9dlTf4",
        "outputId": "2a7e941a-329c-4ebb-cd19-c41c4741755a"
      },
      "execution_count": 109,
      "outputs": [
        {
          "output_type": "execute_result",
          "data": {
            "text/plain": [
              "False"
            ]
          },
          "metadata": {},
          "execution_count": 109
        }
      ]
    },
    {
      "cell_type": "code",
      "source": [
        "sp.prime(4)"
      ],
      "metadata": {
        "colab": {
          "base_uri": "https://localhost:8080/"
        },
        "id": "schfULfElW2J",
        "outputId": "017281b5-001c-43f0-d1f6-76de57a6d6b5"
      },
      "execution_count": 111,
      "outputs": [
        {
          "output_type": "execute_result",
          "data": {
            "text/plain": [
              "7"
            ]
          },
          "metadata": {},
          "execution_count": 111
        }
      ]
    },
    {
      "cell_type": "code",
      "source": [
        "x = 123123123\n",
        "a = sp.prime(x)\n",
        "b = sp.prime(x+1)\n",
        "\n",
        "if b-a==2:\n",
        "  print((a,b),'是孿生質數')"
      ],
      "metadata": {
        "id": "MtA_LCDsle4w"
      },
      "execution_count": 124,
      "outputs": []
    },
    {
      "cell_type": "code",
      "source": [
        "π = sp.pi"
      ],
      "metadata": {
        "id": "hOm3h4B7o8td"
      },
      "execution_count": 126,
      "outputs": []
    },
    {
      "cell_type": "code",
      "source": [
        "π.n(100)"
      ],
      "metadata": {
        "colab": {
          "base_uri": "https://localhost:8080/",
          "height": 57
        },
        "id": "F_dpjqyyodkZ",
        "outputId": "7e67cdc8-77ee-411c-aec0-237dd6c97c21"
      },
      "execution_count": 127,
      "outputs": [
        {
          "output_type": "execute_result",
          "data": {
            "text/plain": [
              "3.141592653589793238462643383279502884197169399375105820974944592307816406286208998628034825342117068"
            ],
            "text/latex": "$\\displaystyle 3.141592653589793238462643383279502884197169399375105820974944592307816406286208998628034825342117068$"
          },
          "metadata": {},
          "execution_count": 127
        }
      ]
    },
    {
      "cell_type": "code",
      "source": [
        "magic = str(π.n(100000))"
      ],
      "metadata": {
        "id": "oYOSDrAwo7Bp"
      },
      "execution_count": 130,
      "outputs": []
    },
    {
      "cell_type": "code",
      "source": [
        "'0108' in magic"
      ],
      "metadata": {
        "colab": {
          "base_uri": "https://localhost:8080/"
        },
        "id": "diyssE9RpL5J",
        "outputId": "75e03292-5bad-43fe-b62b-ad86624e48fd"
      },
      "execution_count": 131,
      "outputs": [
        {
          "output_type": "execute_result",
          "data": {
            "text/plain": [
              "True"
            ]
          },
          "metadata": {},
          "execution_count": 131
        }
      ]
    }
  ]
}